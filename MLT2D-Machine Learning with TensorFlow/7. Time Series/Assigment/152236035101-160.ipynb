{
  "metadata": {
    "kernelspec": {
      "language": "python",
      "display_name": "Python 3",
      "name": "python3"
    },
    "language_info": {
      "pygments_lexer": "ipython3",
      "nbconvert_exporter": "python",
      "version": "3.6.4",
      "file_extension": ".py",
      "codemirror_mode": {
        "name": "ipython",
        "version": 3
      },
      "name": "python",
      "mimetype": "text/x-python"
    },
    "colab": {
      "name": "Assignment 7 .ipynb",
      "provenance": []
    },
    "accelerator": "TPU",
    "gpuClass": "standard"
  },
  "nbformat_minor": 0,
  "nbformat": 4,
  "cells": [
    {
      "cell_type": "code",
      "source": [
        "import numpy as np # linear algebra\n",
        "import pandas as pd # data processing, CSV file I/O (e.g. pd.read_csv)"
      ],
      "metadata": {
        "_uuid": "8f2839f25d086af736a60e9eeb907d3b93b6e0e5",
        "_cell_guid": "b1076dfc-b9ad-4769-8c92-a6c4dae69d19",
        "execution": {
          "iopub.status.busy": "2021-12-31T14:35:19.72849Z",
          "iopub.execute_input": "2021-12-31T14:35:19.728891Z",
          "iopub.status.idle": "2021-12-31T14:35:19.738809Z",
          "shell.execute_reply.started": "2021-12-31T14:35:19.728845Z",
          "shell.execute_reply": "2021-12-31T14:35:19.738166Z"
        },
        "trusted": true,
        "id": "7ZhkVgA2baKo"
      },
      "execution_count": 28,
      "outputs": []
    },
    {
      "cell_type": "code",
      "source": [
        "# Importing the libraries\n",
        "import matplotlib.pyplot as plt\n",
        "import datetime"
      ],
      "metadata": {
        "execution": {
          "iopub.status.busy": "2021-12-31T14:35:19.740367Z",
          "iopub.execute_input": "2021-12-31T14:35:19.741481Z",
          "iopub.status.idle": "2021-12-31T14:35:19.76359Z",
          "shell.execute_reply.started": "2021-12-31T14:35:19.741404Z",
          "shell.execute_reply": "2021-12-31T14:35:19.762935Z"
        },
        "trusted": true,
        "id": "LJ_8CnVKbaKv"
      },
      "execution_count": 29,
      "outputs": []
    },
    {
      "cell_type": "code",
      "source": [
        "from google.colab import drive\n",
        "drive.mount('/content/drive')"
      ],
      "metadata": {
        "id": "NU3E88Wvbrdp",
        "outputId": "045a06cf-5009-4a39-9355-a16255f3f454",
        "colab": {
          "base_uri": "https://localhost:8080/"
        }
      },
      "execution_count": 30,
      "outputs": [
        {
          "output_type": "stream",
          "name": "stdout",
          "text": [
            "Drive already mounted at /content/drive; to attempt to forcibly remount, call drive.mount(\"/content/drive\", force_remount=True).\n"
          ]
        }
      ]
    },
    {
      "cell_type": "code",
      "source": [
        "#ubah pathnya sesuai lokasi dataset \n",
        "dataset=pd.read_csv('/content/drive/MyDrive/PROA/Assignment/Google_Stock_Price_Train.csv',index_col=\"Date\",parse_dates=True)"
      ],
      "metadata": {
        "execution": {
          "iopub.status.busy": "2021-12-31T14:35:19.764785Z",
          "iopub.execute_input": "2021-12-31T14:35:19.765829Z",
          "iopub.status.idle": "2021-12-31T14:35:19.862003Z",
          "shell.execute_reply.started": "2021-12-31T14:35:19.76575Z",
          "shell.execute_reply": "2021-12-31T14:35:19.861007Z"
        },
        "trusted": true,
        "id": "WBG9Ca6VbaKw"
      },
      "execution_count": 31,
      "outputs": []
    },
    {
      "cell_type": "markdown",
      "source": [
        "##Explore Dataset"
      ],
      "metadata": {
        "id": "aPJdMEaXbxw7"
      }
    },
    {
      "cell_type": "code",
      "source": [
        "# Show first 5 rows in the dataset\n",
        "dataset.head()"
      ],
      "metadata": {
        "execution": {
          "iopub.status.busy": "2021-12-31T14:35:19.863122Z",
          "iopub.execute_input": "2021-12-31T14:35:19.863367Z",
          "iopub.status.idle": "2021-12-31T14:35:19.8764Z",
          "shell.execute_reply.started": "2021-12-31T14:35:19.863339Z",
          "shell.execute_reply": "2021-12-31T14:35:19.87561Z"
        },
        "trusted": true,
        "id": "f-GV5MmSbaKy",
        "outputId": "da835408-1360-49f8-eac0-f20c89078938",
        "colab": {
          "base_uri": "https://localhost:8080/",
          "height": 237
        }
      },
      "execution_count": 32,
      "outputs": [
        {
          "output_type": "execute_result",
          "data": {
            "text/plain": [
              "              Open    High     Low   Close      Volume\n",
              "Date                                                  \n",
              "2012-01-03  325.25  332.83  324.97  663.59   7,380,500\n",
              "2012-01-04  331.27  333.87  329.08  666.45   5,749,400\n",
              "2012-01-05  329.83  330.75  326.89  657.21   6,590,300\n",
              "2012-01-06  328.34  328.77  323.68  648.24   5,405,900\n",
              "2012-01-09  322.04  322.29  309.46  620.76  11,688,800"
            ],
            "text/html": [
              "\n",
              "  <div id=\"df-65961a4e-0668-4409-a684-ee7e85bf2912\">\n",
              "    <div class=\"colab-df-container\">\n",
              "      <div>\n",
              "<style scoped>\n",
              "    .dataframe tbody tr th:only-of-type {\n",
              "        vertical-align: middle;\n",
              "    }\n",
              "\n",
              "    .dataframe tbody tr th {\n",
              "        vertical-align: top;\n",
              "    }\n",
              "\n",
              "    .dataframe thead th {\n",
              "        text-align: right;\n",
              "    }\n",
              "</style>\n",
              "<table border=\"1\" class=\"dataframe\">\n",
              "  <thead>\n",
              "    <tr style=\"text-align: right;\">\n",
              "      <th></th>\n",
              "      <th>Open</th>\n",
              "      <th>High</th>\n",
              "      <th>Low</th>\n",
              "      <th>Close</th>\n",
              "      <th>Volume</th>\n",
              "    </tr>\n",
              "    <tr>\n",
              "      <th>Date</th>\n",
              "      <th></th>\n",
              "      <th></th>\n",
              "      <th></th>\n",
              "      <th></th>\n",
              "      <th></th>\n",
              "    </tr>\n",
              "  </thead>\n",
              "  <tbody>\n",
              "    <tr>\n",
              "      <th>2012-01-03</th>\n",
              "      <td>325.25</td>\n",
              "      <td>332.83</td>\n",
              "      <td>324.97</td>\n",
              "      <td>663.59</td>\n",
              "      <td>7,380,500</td>\n",
              "    </tr>\n",
              "    <tr>\n",
              "      <th>2012-01-04</th>\n",
              "      <td>331.27</td>\n",
              "      <td>333.87</td>\n",
              "      <td>329.08</td>\n",
              "      <td>666.45</td>\n",
              "      <td>5,749,400</td>\n",
              "    </tr>\n",
              "    <tr>\n",
              "      <th>2012-01-05</th>\n",
              "      <td>329.83</td>\n",
              "      <td>330.75</td>\n",
              "      <td>326.89</td>\n",
              "      <td>657.21</td>\n",
              "      <td>6,590,300</td>\n",
              "    </tr>\n",
              "    <tr>\n",
              "      <th>2012-01-06</th>\n",
              "      <td>328.34</td>\n",
              "      <td>328.77</td>\n",
              "      <td>323.68</td>\n",
              "      <td>648.24</td>\n",
              "      <td>5,405,900</td>\n",
              "    </tr>\n",
              "    <tr>\n",
              "      <th>2012-01-09</th>\n",
              "      <td>322.04</td>\n",
              "      <td>322.29</td>\n",
              "      <td>309.46</td>\n",
              "      <td>620.76</td>\n",
              "      <td>11,688,800</td>\n",
              "    </tr>\n",
              "  </tbody>\n",
              "</table>\n",
              "</div>\n",
              "      <button class=\"colab-df-convert\" onclick=\"convertToInteractive('df-65961a4e-0668-4409-a684-ee7e85bf2912')\"\n",
              "              title=\"Convert this dataframe to an interactive table.\"\n",
              "              style=\"display:none;\">\n",
              "        \n",
              "  <svg xmlns=\"http://www.w3.org/2000/svg\" height=\"24px\"viewBox=\"0 0 24 24\"\n",
              "       width=\"24px\">\n",
              "    <path d=\"M0 0h24v24H0V0z\" fill=\"none\"/>\n",
              "    <path d=\"M18.56 5.44l.94 2.06.94-2.06 2.06-.94-2.06-.94-.94-2.06-.94 2.06-2.06.94zm-11 1L8.5 8.5l.94-2.06 2.06-.94-2.06-.94L8.5 2.5l-.94 2.06-2.06.94zm10 10l.94 2.06.94-2.06 2.06-.94-2.06-.94-.94-2.06-.94 2.06-2.06.94z\"/><path d=\"M17.41 7.96l-1.37-1.37c-.4-.4-.92-.59-1.43-.59-.52 0-1.04.2-1.43.59L10.3 9.45l-7.72 7.72c-.78.78-.78 2.05 0 2.83L4 21.41c.39.39.9.59 1.41.59.51 0 1.02-.2 1.41-.59l7.78-7.78 2.81-2.81c.8-.78.8-2.07 0-2.86zM5.41 20L4 18.59l7.72-7.72 1.47 1.35L5.41 20z\"/>\n",
              "  </svg>\n",
              "      </button>\n",
              "      \n",
              "  <style>\n",
              "    .colab-df-container {\n",
              "      display:flex;\n",
              "      flex-wrap:wrap;\n",
              "      gap: 12px;\n",
              "    }\n",
              "\n",
              "    .colab-df-convert {\n",
              "      background-color: #E8F0FE;\n",
              "      border: none;\n",
              "      border-radius: 50%;\n",
              "      cursor: pointer;\n",
              "      display: none;\n",
              "      fill: #1967D2;\n",
              "      height: 32px;\n",
              "      padding: 0 0 0 0;\n",
              "      width: 32px;\n",
              "    }\n",
              "\n",
              "    .colab-df-convert:hover {\n",
              "      background-color: #E2EBFA;\n",
              "      box-shadow: 0px 1px 2px rgba(60, 64, 67, 0.3), 0px 1px 3px 1px rgba(60, 64, 67, 0.15);\n",
              "      fill: #174EA6;\n",
              "    }\n",
              "\n",
              "    [theme=dark] .colab-df-convert {\n",
              "      background-color: #3B4455;\n",
              "      fill: #D2E3FC;\n",
              "    }\n",
              "\n",
              "    [theme=dark] .colab-df-convert:hover {\n",
              "      background-color: #434B5C;\n",
              "      box-shadow: 0px 1px 3px 1px rgba(0, 0, 0, 0.15);\n",
              "      filter: drop-shadow(0px 1px 2px rgba(0, 0, 0, 0.3));\n",
              "      fill: #FFFFFF;\n",
              "    }\n",
              "  </style>\n",
              "\n",
              "      <script>\n",
              "        const buttonEl =\n",
              "          document.querySelector('#df-65961a4e-0668-4409-a684-ee7e85bf2912 button.colab-df-convert');\n",
              "        buttonEl.style.display =\n",
              "          google.colab.kernel.accessAllowed ? 'block' : 'none';\n",
              "\n",
              "        async function convertToInteractive(key) {\n",
              "          const element = document.querySelector('#df-65961a4e-0668-4409-a684-ee7e85bf2912');\n",
              "          const dataTable =\n",
              "            await google.colab.kernel.invokeFunction('convertToInteractive',\n",
              "                                                     [key], {});\n",
              "          if (!dataTable) return;\n",
              "\n",
              "          const docLinkHtml = 'Like what you see? Visit the ' +\n",
              "            '<a target=\"_blank\" href=https://colab.research.google.com/notebooks/data_table.ipynb>data table notebook</a>'\n",
              "            + ' to learn more about interactive tables.';\n",
              "          element.innerHTML = '';\n",
              "          dataTable['output_type'] = 'display_data';\n",
              "          await google.colab.output.renderOutput(dataTable, element);\n",
              "          const docLink = document.createElement('div');\n",
              "          docLink.innerHTML = docLinkHtml;\n",
              "          element.appendChild(docLink);\n",
              "        }\n",
              "      </script>\n",
              "    </div>\n",
              "  </div>\n",
              "  "
            ]
          },
          "metadata": {},
          "execution_count": 32
        }
      ]
    },
    {
      "cell_type": "code",
      "source": [
        "# Show info the data\n",
        "dataset.info()"
      ],
      "metadata": {
        "execution": {
          "iopub.status.busy": "2021-12-31T14:35:19.878285Z",
          "iopub.execute_input": "2021-12-31T14:35:19.878862Z",
          "iopub.status.idle": "2021-12-31T14:35:19.899352Z",
          "shell.execute_reply.started": "2021-12-31T14:35:19.878826Z",
          "shell.execute_reply": "2021-12-31T14:35:19.898493Z"
        },
        "trusted": true,
        "id": "s5BLuj3vbaKz",
        "outputId": "0c8ce70c-fee3-4c41-9292-bb530385ef50",
        "colab": {
          "base_uri": "https://localhost:8080/"
        }
      },
      "execution_count": 33,
      "outputs": [
        {
          "output_type": "stream",
          "name": "stdout",
          "text": [
            "<class 'pandas.core.frame.DataFrame'>\n",
            "DatetimeIndex: 1258 entries, 2012-01-03 to 2016-12-30\n",
            "Data columns (total 5 columns):\n",
            " #   Column  Non-Null Count  Dtype  \n",
            "---  ------  --------------  -----  \n",
            " 0   Open    1258 non-null   float64\n",
            " 1   High    1258 non-null   float64\n",
            " 2   Low     1258 non-null   float64\n",
            " 3   Close   1258 non-null   object \n",
            " 4   Volume  1258 non-null   object \n",
            "dtypes: float64(3), object(2)\n",
            "memory usage: 59.0+ KB\n"
          ]
        }
      ]
    },
    {
      "cell_type": "code",
      "source": [
        "# Show statistic descriptive \n",
        "dataset.describe()"
      ],
      "metadata": {
        "id": "3ScBE-gTH9oc",
        "outputId": "f4ff9a22-8b9d-42ed-d229-720cb4afca3e",
        "colab": {
          "base_uri": "https://localhost:8080/",
          "height": 300
        }
      },
      "execution_count": 34,
      "outputs": [
        {
          "output_type": "execute_result",
          "data": {
            "text/plain": [
              "              Open         High          Low\n",
              "count  1258.000000  1258.000000  1258.000000\n",
              "mean    533.709833   537.880223   529.007409\n",
              "std     151.904442   153.008811   150.552807\n",
              "min     279.120000   281.210000   277.220000\n",
              "25%     404.115000   406.765000   401.765000\n",
              "50%     537.470000   540.750000   532.990000\n",
              "75%     654.922500   662.587500   644.800000\n",
              "max     816.680000   816.680000   805.140000"
            ],
            "text/html": [
              "\n",
              "  <div id=\"df-ab031584-ff45-458d-8583-9c0251141733\">\n",
              "    <div class=\"colab-df-container\">\n",
              "      <div>\n",
              "<style scoped>\n",
              "    .dataframe tbody tr th:only-of-type {\n",
              "        vertical-align: middle;\n",
              "    }\n",
              "\n",
              "    .dataframe tbody tr th {\n",
              "        vertical-align: top;\n",
              "    }\n",
              "\n",
              "    .dataframe thead th {\n",
              "        text-align: right;\n",
              "    }\n",
              "</style>\n",
              "<table border=\"1\" class=\"dataframe\">\n",
              "  <thead>\n",
              "    <tr style=\"text-align: right;\">\n",
              "      <th></th>\n",
              "      <th>Open</th>\n",
              "      <th>High</th>\n",
              "      <th>Low</th>\n",
              "    </tr>\n",
              "  </thead>\n",
              "  <tbody>\n",
              "    <tr>\n",
              "      <th>count</th>\n",
              "      <td>1258.000000</td>\n",
              "      <td>1258.000000</td>\n",
              "      <td>1258.000000</td>\n",
              "    </tr>\n",
              "    <tr>\n",
              "      <th>mean</th>\n",
              "      <td>533.709833</td>\n",
              "      <td>537.880223</td>\n",
              "      <td>529.007409</td>\n",
              "    </tr>\n",
              "    <tr>\n",
              "      <th>std</th>\n",
              "      <td>151.904442</td>\n",
              "      <td>153.008811</td>\n",
              "      <td>150.552807</td>\n",
              "    </tr>\n",
              "    <tr>\n",
              "      <th>min</th>\n",
              "      <td>279.120000</td>\n",
              "      <td>281.210000</td>\n",
              "      <td>277.220000</td>\n",
              "    </tr>\n",
              "    <tr>\n",
              "      <th>25%</th>\n",
              "      <td>404.115000</td>\n",
              "      <td>406.765000</td>\n",
              "      <td>401.765000</td>\n",
              "    </tr>\n",
              "    <tr>\n",
              "      <th>50%</th>\n",
              "      <td>537.470000</td>\n",
              "      <td>540.750000</td>\n",
              "      <td>532.990000</td>\n",
              "    </tr>\n",
              "    <tr>\n",
              "      <th>75%</th>\n",
              "      <td>654.922500</td>\n",
              "      <td>662.587500</td>\n",
              "      <td>644.800000</td>\n",
              "    </tr>\n",
              "    <tr>\n",
              "      <th>max</th>\n",
              "      <td>816.680000</td>\n",
              "      <td>816.680000</td>\n",
              "      <td>805.140000</td>\n",
              "    </tr>\n",
              "  </tbody>\n",
              "</table>\n",
              "</div>\n",
              "      <button class=\"colab-df-convert\" onclick=\"convertToInteractive('df-ab031584-ff45-458d-8583-9c0251141733')\"\n",
              "              title=\"Convert this dataframe to an interactive table.\"\n",
              "              style=\"display:none;\">\n",
              "        \n",
              "  <svg xmlns=\"http://www.w3.org/2000/svg\" height=\"24px\"viewBox=\"0 0 24 24\"\n",
              "       width=\"24px\">\n",
              "    <path d=\"M0 0h24v24H0V0z\" fill=\"none\"/>\n",
              "    <path d=\"M18.56 5.44l.94 2.06.94-2.06 2.06-.94-2.06-.94-.94-2.06-.94 2.06-2.06.94zm-11 1L8.5 8.5l.94-2.06 2.06-.94-2.06-.94L8.5 2.5l-.94 2.06-2.06.94zm10 10l.94 2.06.94-2.06 2.06-.94-2.06-.94-.94-2.06-.94 2.06-2.06.94z\"/><path d=\"M17.41 7.96l-1.37-1.37c-.4-.4-.92-.59-1.43-.59-.52 0-1.04.2-1.43.59L10.3 9.45l-7.72 7.72c-.78.78-.78 2.05 0 2.83L4 21.41c.39.39.9.59 1.41.59.51 0 1.02-.2 1.41-.59l7.78-7.78 2.81-2.81c.8-.78.8-2.07 0-2.86zM5.41 20L4 18.59l7.72-7.72 1.47 1.35L5.41 20z\"/>\n",
              "  </svg>\n",
              "      </button>\n",
              "      \n",
              "  <style>\n",
              "    .colab-df-container {\n",
              "      display:flex;\n",
              "      flex-wrap:wrap;\n",
              "      gap: 12px;\n",
              "    }\n",
              "\n",
              "    .colab-df-convert {\n",
              "      background-color: #E8F0FE;\n",
              "      border: none;\n",
              "      border-radius: 50%;\n",
              "      cursor: pointer;\n",
              "      display: none;\n",
              "      fill: #1967D2;\n",
              "      height: 32px;\n",
              "      padding: 0 0 0 0;\n",
              "      width: 32px;\n",
              "    }\n",
              "\n",
              "    .colab-df-convert:hover {\n",
              "      background-color: #E2EBFA;\n",
              "      box-shadow: 0px 1px 2px rgba(60, 64, 67, 0.3), 0px 1px 3px 1px rgba(60, 64, 67, 0.15);\n",
              "      fill: #174EA6;\n",
              "    }\n",
              "\n",
              "    [theme=dark] .colab-df-convert {\n",
              "      background-color: #3B4455;\n",
              "      fill: #D2E3FC;\n",
              "    }\n",
              "\n",
              "    [theme=dark] .colab-df-convert:hover {\n",
              "      background-color: #434B5C;\n",
              "      box-shadow: 0px 1px 3px 1px rgba(0, 0, 0, 0.15);\n",
              "      filter: drop-shadow(0px 1px 2px rgba(0, 0, 0, 0.3));\n",
              "      fill: #FFFFFF;\n",
              "    }\n",
              "  </style>\n",
              "\n",
              "      <script>\n",
              "        const buttonEl =\n",
              "          document.querySelector('#df-ab031584-ff45-458d-8583-9c0251141733 button.colab-df-convert');\n",
              "        buttonEl.style.display =\n",
              "          google.colab.kernel.accessAllowed ? 'block' : 'none';\n",
              "\n",
              "        async function convertToInteractive(key) {\n",
              "          const element = document.querySelector('#df-ab031584-ff45-458d-8583-9c0251141733');\n",
              "          const dataTable =\n",
              "            await google.colab.kernel.invokeFunction('convertToInteractive',\n",
              "                                                     [key], {});\n",
              "          if (!dataTable) return;\n",
              "\n",
              "          const docLinkHtml = 'Like what you see? Visit the ' +\n",
              "            '<a target=\"_blank\" href=https://colab.research.google.com/notebooks/data_table.ipynb>data table notebook</a>'\n",
              "            + ' to learn more about interactive tables.';\n",
              "          element.innerHTML = '';\n",
              "          dataTable['output_type'] = 'display_data';\n",
              "          await google.colab.output.renderOutput(dataTable, element);\n",
              "          const docLink = document.createElement('div');\n",
              "          docLink.innerHTML = docLinkHtml;\n",
              "          element.appendChild(docLink);\n",
              "        }\n",
              "      </script>\n",
              "    </div>\n",
              "  </div>\n",
              "  "
            ]
          },
          "metadata": {},
          "execution_count": 34
        }
      ]
    },
    {
      "cell_type": "markdown",
      "source": [
        "#Visualize"
      ],
      "metadata": {
        "id": "kFgWjQfyb6QO"
      }
    },
    {
      "cell_type": "code",
      "source": [
        "# Visualization data Open to Linechart \n",
        "dataset['Open'].plot(figsize=(16,6))\n",
        "plt.title(\"Open Price\")"
      ],
      "metadata": {
        "execution": {
          "iopub.status.busy": "2021-12-31T14:35:19.993529Z",
          "iopub.execute_input": "2021-12-31T14:35:19.994636Z",
          "iopub.status.idle": "2021-12-31T14:35:20.351896Z",
          "shell.execute_reply.started": "2021-12-31T14:35:19.994581Z",
          "shell.execute_reply": "2021-12-31T14:35:20.350821Z"
        },
        "trusted": true,
        "id": "_oHijB40baK3",
        "outputId": "e58aab57-08e0-42b6-e105-22d34163c45d",
        "colab": {
          "base_uri": "https://localhost:8080/",
          "height": 401
        }
      },
      "execution_count": 35,
      "outputs": [
        {
          "output_type": "execute_result",
          "data": {
            "text/plain": [
              "Text(0.5, 1.0, 'Open Price')"
            ]
          },
          "metadata": {},
          "execution_count": 35
        },
        {
          "output_type": "display_data",
          "data": {
            "text/plain": [
              "<Figure size 1152x432 with 1 Axes>"
            ],
            "image/png": "[encoded data removed]"
          },
          "metadata": {
            "needs_background": "light"
          }
        }
      ]
    },
    {
      "cell_type": "code",
      "source": [
        "# convert column \"a\" of a DataFrame\n",
        "dataset[\"Close\"] = dataset[\"Close\"].str.replace(',', '').astype(float)\n",
        "dataset[\"Volume\"] = dataset[\"Volume\"].str.replace(',', '').astype(float)"
      ],
      "metadata": {
        "execution": {
          "iopub.status.busy": "2021-12-31T14:35:20.353281Z",
          "iopub.execute_input": "2021-12-31T14:35:20.353516Z",
          "iopub.status.idle": "2021-12-31T14:35:20.361401Z",
          "shell.execute_reply.started": "2021-12-31T14:35:20.35348Z",
          "shell.execute_reply": "2021-12-31T14:35:20.360432Z"
        },
        "trusted": true,
        "id": "3hRFu3jobaK3"
      },
      "execution_count": 36,
      "outputs": []
    },
    {
      "cell_type": "code",
      "source": [
        "# 7 day rolling mean\n",
        "dataset.rolling(7).mean().head(20)"
      ],
      "metadata": {
        "execution": {
          "iopub.status.busy": "2021-12-31T14:35:20.379043Z",
          "iopub.execute_input": "2021-12-31T14:35:20.379299Z",
          "iopub.status.idle": "2021-12-31T14:35:20.404864Z",
          "shell.execute_reply.started": "2021-12-31T14:35:20.379269Z",
          "shell.execute_reply": "2021-12-31T14:35:20.404263Z"
        },
        "trusted": true,
        "id": "3GRnmEB0baK6",
        "outputId": "93df51a1-6ee3-4749-9cda-3b95c33a124e",
        "colab": {
          "base_uri": "https://localhost:8080/",
          "height": 708
        }
      },
      "execution_count": 37,
      "outputs": [
        {
          "output_type": "execute_result",
          "data": {
            "text/plain": [
              "                  Open        High         Low       Close        Volume\n",
              "Date                                                                    \n",
              "2012-01-03         NaN         NaN         NaN         NaN           NaN\n",
              "2012-01-04         NaN         NaN         NaN         NaN           NaN\n",
              "2012-01-05         NaN         NaN         NaN         NaN           NaN\n",
              "2012-01-06         NaN         NaN         NaN         NaN           NaN\n",
              "2012-01-09         NaN         NaN         NaN         NaN           NaN\n",
              "2012-01-10         NaN         NaN         NaN         NaN           NaN\n",
              "2012-01-11  323.002857  325.392857  318.682857  643.132857  7.208100e+06\n",
              "2012-01-12  321.457143  322.882857  316.841429  638.037143  6.691514e+06\n",
              "2012-01-13  318.698571  319.801429  314.025714  631.870000  6.531857e+06\n",
              "2012-01-17  316.552857  317.524286  311.851429  627.534286  6.137929e+06\n",
              "2012-01-18  314.238571  315.674286  309.882857  625.097143  6.157657e+06\n",
              "2012-01-19  313.847143  315.247143  310.610000  627.534286  6.296086e+06\n",
              "2012-01-20  311.055714  312.201429  308.104286  622.242857  8.068629e+06\n",
              "2012-01-23  308.387143  309.302857  305.402857  616.481429  8.359129e+06\n",
              "2012-01-24  305.192857  306.085714  301.951429  609.541429  8.697700e+06\n",
              "2012-01-25  301.724286  302.652857  298.060000  601.634286  9.466400e+06\n",
              "2012-01-26  297.454286  298.561429  293.710000  593.017143  9.844071e+06\n",
              "2012-01-27  293.480000  294.741429  289.952857  585.475714  1.008950e+07\n",
              "2012-01-30  289.001429  290.401429  285.821429  576.660000  8.949586e+06\n",
              "2012-01-31  288.465714  289.902857  285.355714  575.821429  6.530857e+06"
            ],
            "text/html": [
              "\n",
              "  <div id=\"df-14360803-b292-4a23-9546-e594d2c95387\">\n",
              "    <div class=\"colab-df-container\">\n",
              "      <div>\n",
              "<style scoped>\n",
              "    .dataframe tbody tr th:only-of-type {\n",
              "        vertical-align: middle;\n",
              "    }\n",
              "\n",
              "    .dataframe tbody tr th {\n",
              "        vertical-align: top;\n",
              "    }\n",
              "\n",
              "    .dataframe thead th {\n",
              "        text-align: right;\n",
              "    }\n",
              "</style>\n",
              "<table border=\"1\" class=\"dataframe\">\n",
              "  <thead>\n",
              "    <tr style=\"text-align: right;\">\n",
              "      <th></th>\n",
              "      <th>Open</th>\n",
              "      <th>High</th>\n",
              "      <th>Low</th>\n",
              "      <th>Close</th>\n",
              "      <th>Volume</th>\n",
              "    </tr>\n",
              "    <tr>\n",
              "      <th>Date</th>\n",
              "      <th></th>\n",
              "      <th></th>\n",
              "      <th></th>\n",
              "      <th></th>\n",
              "      <th></th>\n",
              "    </tr>\n",
              "  </thead>\n",
              "  <tbody>\n",
              "    <tr>\n",
              "      <th>2012-01-03</th>\n",
              "      <td>NaN</td>\n",
              "      <td>NaN</td>\n",
              "      <td>NaN</td>\n",
              "      <td>NaN</td>\n",
              "      <td>NaN</td>\n",
              "    </tr>\n",
              "    <tr>\n",
              "      <th>2012-01-04</th>\n",
              "      <td>NaN</td>\n",
              "      <td>NaN</td>\n",
              "      <td>NaN</td>\n",
              "      <td>NaN</td>\n",
              "      <td>NaN</td>\n",
              "    </tr>\n",
              "    <tr>\n",
              "      <th>2012-01-05</th>\n",
              "      <td>NaN</td>\n",
              "      <td>NaN</td>\n",
              "      <td>NaN</td>\n",
              "      <td>NaN</td>\n",
              "      <td>NaN</td>\n",
              "    </tr>\n",
              "    <tr>\n",
              "      <th>2012-01-06</th>\n",
              "      <td>NaN</td>\n",
              "      <td>NaN</td>\n",
              "      <td>NaN</td>\n",
              "      <td>NaN</td>\n",
              "      <td>NaN</td>\n",
              "    </tr>\n",
              "    <tr>\n",
              "      <th>2012-01-09</th>\n",
              "      <td>NaN</td>\n",
              "      <td>NaN</td>\n",
              "      <td>NaN</td>\n",
              "      <td>NaN</td>\n",
              "      <td>NaN</td>\n",
              "    </tr>\n",
              "    <tr>\n",
              "      <th>2012-01-10</th>\n",
              "      <td>NaN</td>\n",
              "      <td>NaN</td>\n",
              "      <td>NaN</td>\n",
              "      <td>NaN</td>\n",
              "      <td>NaN</td>\n",
              "    </tr>\n",
              "    <tr>\n",
              "      <th>2012-01-11</th>\n",
              "      <td>323.002857</td>\n",
              "      <td>325.392857</td>\n",
              "      <td>318.682857</td>\n",
              "      <td>643.132857</td>\n",
              "      <td>7.208100e+06</td>\n",
              "    </tr>\n",
              "    <tr>\n",
              "      <th>2012-01-12</th>\n",
              "      <td>321.457143</td>\n",
              "      <td>322.882857</td>\n",
              "      <td>316.841429</td>\n",
              "      <td>638.037143</td>\n",
              "      <td>6.691514e+06</td>\n",
              "    </tr>\n",
              "    <tr>\n",
              "      <th>2012-01-13</th>\n",
              "      <td>318.698571</td>\n",
              "      <td>319.801429</td>\n",
              "      <td>314.025714</td>\n",
              "      <td>631.870000</td>\n",
              "      <td>6.531857e+06</td>\n",
              "    </tr>\n",
              "    <tr>\n",
              "      <th>2012-01-17</th>\n",
              "      <td>316.552857</td>\n",
              "      <td>317.524286</td>\n",
              "      <td>311.851429</td>\n",
              "      <td>627.534286</td>\n",
              "      <td>6.137929e+06</td>\n",
              "    </tr>\n",
              "    <tr>\n",
              "      <th>2012-01-18</th>\n",
              "      <td>314.238571</td>\n",
              "      <td>315.674286</td>\n",
              "      <td>309.882857</td>\n",
              "      <td>625.097143</td>\n",
              "      <td>6.157657e+06</td>\n",
              "    </tr>\n",
              "    <tr>\n",
              "      <th>2012-01-19</th>\n",
              "      <td>313.847143</td>\n",
              "      <td>315.247143</td>\n",
              "      <td>310.610000</td>\n",
              "      <td>627.534286</td>\n",
              "      <td>6.296086e+06</td>\n",
              "    </tr>\n",
              "    <tr>\n",
              "      <th>2012-01-20</th>\n",
              "      <td>311.055714</td>\n",
              "      <td>312.201429</td>\n",
              "      <td>308.104286</td>\n",
              "      <td>622.242857</td>\n",
              "      <td>8.068629e+06</td>\n",
              "    </tr>\n",
              "    <tr>\n",
              "      <th>2012-01-23</th>\n",
              "      <td>308.387143</td>\n",
              "      <td>309.302857</td>\n",
              "      <td>305.402857</td>\n",
              "      <td>616.481429</td>\n",
              "      <td>8.359129e+06</td>\n",
              "    </tr>\n",
              "    <tr>\n",
              "      <th>2012-01-24</th>\n",
              "      <td>305.192857</td>\n",
              "      <td>306.085714</td>\n",
              "      <td>301.951429</td>\n",
              "      <td>609.541429</td>\n",
              "      <td>8.697700e+06</td>\n",
              "    </tr>\n",
              "    <tr>\n",
              "      <th>2012-01-25</th>\n",
              "      <td>301.724286</td>\n",
              "      <td>302.652857</td>\n",
              "      <td>298.060000</td>\n",
              "      <td>601.634286</td>\n",
              "      <td>9.466400e+06</td>\n",
              "    </tr>\n",
              "    <tr>\n",
              "      <th>2012-01-26</th>\n",
              "      <td>297.454286</td>\n",
              "      <td>298.561429</td>\n",
              "      <td>293.710000</td>\n",
              "      <td>593.017143</td>\n",
              "      <td>9.844071e+06</td>\n",
              "    </tr>\n",
              "    <tr>\n",
              "      <th>2012-01-27</th>\n",
              "      <td>293.480000</td>\n",
              "      <td>294.741429</td>\n",
              "      <td>289.952857</td>\n",
              "      <td>585.475714</td>\n",
              "      <td>1.008950e+07</td>\n",
              "    </tr>\n",
              "    <tr>\n",
              "      <th>2012-01-30</th>\n",
              "      <td>289.001429</td>\n",
              "      <td>290.401429</td>\n",
              "      <td>285.821429</td>\n",
              "      <td>576.660000</td>\n",
              "      <td>8.949586e+06</td>\n",
              "    </tr>\n",
              "    <tr>\n",
              "      <th>2012-01-31</th>\n",
              "      <td>288.465714</td>\n",
              "      <td>289.902857</td>\n",
              "      <td>285.355714</td>\n",
              "      <td>575.821429</td>\n",
              "      <td>6.530857e+06</td>\n",
              "    </tr>\n",
              "  </tbody>\n",
              "</table>\n",
              "</div>\n",
              "      <button class=\"colab-df-convert\" onclick=\"convertToInteractive('df-14360803-b292-4a23-9546-e594d2c95387')\"\n",
              "              title=\"Convert this dataframe to an interactive table.\"\n",
              "              style=\"display:none;\">\n",
              "        \n",
              "  <svg xmlns=\"http://www.w3.org/2000/svg\" height=\"24px\"viewBox=\"0 0 24 24\"\n",
              "       width=\"24px\">\n",
              "    <path d=\"M0 0h24v24H0V0z\" fill=\"none\"/>\n",
              "    <path d=\"M18.56 5.44l.94 2.06.94-2.06 2.06-.94-2.06-.94-.94-2.06-.94 2.06-2.06.94zm-11 1L8.5 8.5l.94-2.06 2.06-.94-2.06-.94L8.5 2.5l-.94 2.06-2.06.94zm10 10l.94 2.06.94-2.06 2.06-.94-2.06-.94-.94-2.06-.94 2.06-2.06.94z\"/><path d=\"M17.41 7.96l-1.37-1.37c-.4-.4-.92-.59-1.43-.59-.52 0-1.04.2-1.43.59L10.3 9.45l-7.72 7.72c-.78.78-.78 2.05 0 2.83L4 21.41c.39.39.9.59 1.41.59.51 0 1.02-.2 1.41-.59l7.78-7.78 2.81-2.81c.8-.78.8-2.07 0-2.86zM5.41 20L4 18.59l7.72-7.72 1.47 1.35L5.41 20z\"/>\n",
              "  </svg>\n",
              "      </button>\n",
              "      \n",
              "  <style>\n",
              "    .colab-df-container {\n",
              "      display:flex;\n",
              "      flex-wrap:wrap;\n",
              "      gap: 12px;\n",
              "    }\n",
              "\n",
              "    .colab-df-convert {\n",
              "      background-color: #E8F0FE;\n",
              "      border: none;\n",
              "      border-radius: 50%;\n",
              "      cursor: pointer;\n",
              "      display: none;\n",
              "      fill: #1967D2;\n",
              "      height: 32px;\n",
              "      padding: 0 0 0 0;\n",
              "      width: 32px;\n",
              "    }\n",
              "\n",
              "    .colab-df-convert:hover {\n",
              "      background-color: #E2EBFA;\n",
              "      box-shadow: 0px 1px 2px rgba(60, 64, 67, 0.3), 0px 1px 3px 1px rgba(60, 64, 67, 0.15);\n",
              "      fill: #174EA6;\n",
              "    }\n",
              "\n",
              "    [theme=dark] .colab-df-convert {\n",
              "      background-color: #3B4455;\n",
              "      fill: #D2E3FC;\n",
              "    }\n",
              "\n",
              "    [theme=dark] .colab-df-convert:hover {\n",
              "      background-color: #434B5C;\n",
              "      box-shadow: 0px 1px 3px 1px rgba(0, 0, 0, 0.15);\n",
              "      filter: drop-shadow(0px 1px 2px rgba(0, 0, 0, 0.3));\n",
              "      fill: #FFFFFF;\n",
              "    }\n",
              "  </style>\n",
              "\n",
              "      <script>\n",
              "        const buttonEl =\n",
              "          document.querySelector('#df-14360803-b292-4a23-9546-e594d2c95387 button.colab-df-convert');\n",
              "        buttonEl.style.display =\n",
              "          google.colab.kernel.accessAllowed ? 'block' : 'none';\n",
              "\n",
              "        async function convertToInteractive(key) {\n",
              "          const element = document.querySelector('#df-14360803-b292-4a23-9546-e594d2c95387');\n",
              "          const dataTable =\n",
              "            await google.colab.kernel.invokeFunction('convertToInteractive',\n",
              "                                                     [key], {});\n",
              "          if (!dataTable) return;\n",
              "\n",
              "          const docLinkHtml = 'Like what you see? Visit the ' +\n",
              "            '<a target=\"_blank\" href=https://colab.research.google.com/notebooks/data_table.ipynb>data table notebook</a>'\n",
              "            + ' to learn more about interactive tables.';\n",
              "          element.innerHTML = '';\n",
              "          dataTable['output_type'] = 'display_data';\n",
              "          await google.colab.output.renderOutput(dataTable, element);\n",
              "          const docLink = document.createElement('div');\n",
              "          docLink.innerHTML = docLinkHtml;\n",
              "          element.appendChild(docLink);\n",
              "        }\n",
              "      </script>\n",
              "    </div>\n",
              "  </div>\n",
              "  "
            ]
          },
          "metadata": {},
          "execution_count": 37
        }
      ]
    },
    {
      "cell_type": "code",
      "source": [
        "dataset['Open'].plot(figsize=(16,6))\n",
        "dataset.rolling(window=30).mean()['Close'].plot()\n",
        "plt.title(\"Price Open and Close\")\n",
        "plt.legend()\n",
        "plt.tight_layout()"
      ],
      "metadata": {
        "execution": {
          "iopub.status.busy": "2021-12-31T14:35:20.407543Z",
          "iopub.execute_input": "2021-12-31T14:35:20.408342Z",
          "iopub.status.idle": "2021-12-31T14:35:20.849476Z",
          "shell.execute_reply.started": "2021-12-31T14:35:20.408302Z",
          "shell.execute_reply": "2021-12-31T14:35:20.848439Z"
        },
        "trusted": true,
        "id": "xPgfc4FxbaK6",
        "outputId": "e37369b6-da33-47cb-eb97-79e26c8dd537",
        "colab": {
          "base_uri": "https://localhost:8080/",
          "height": 441
        }
      },
      "execution_count": 38,
      "outputs": [
        {
          "output_type": "display_data",
          "data": {
            "text/plain": [
              "<Figure size 1152x432 with 1 Axes>"
            ],
            "image/png": "[encoded data removed]"
          },
          "metadata": {
            "needs_background": "light"
          }
        }
      ]
    },
    {
      "cell_type": "code",
      "source": [
        "dataset['Close: 30 Day Mean'] = dataset['Close'].rolling(window=30).mean()\n",
        "dataset[['Close','Close: 30 Day Mean']].plot(figsize=(16,6))\n",
        "plt.title(\"Price Close vs Close 30 Day Mean\")\n",
        "plt.tight_layout()"
      ],
      "metadata": {
        "execution": {
          "iopub.status.busy": "2021-12-31T14:35:20.850997Z",
          "iopub.execute_input": "2021-12-31T14:35:20.851572Z",
          "iopub.status.idle": "2021-12-31T14:35:21.225759Z",
          "shell.execute_reply.started": "2021-12-31T14:35:20.851526Z",
          "shell.execute_reply": "2021-12-31T14:35:21.224847Z"
        },
        "trusted": true,
        "id": "Wqy-0jTkbaK7",
        "outputId": "5b4fa182-f446-4e1a-b142-814aedb722ba",
        "colab": {
          "base_uri": "https://localhost:8080/",
          "height": 441
        }
      },
      "execution_count": 39,
      "outputs": [
        {
          "output_type": "display_data",
          "data": {
            "text/plain": [
              "<Figure size 1152x432 with 1 Axes>"
            ],
            "image/png": "[encoded data removed]"
          },
          "metadata": {
            "needs_background": "light"
          }
        }
      ]
    },
    {
      "cell_type": "code",
      "source": [
        "# Optional specify a minimum number of periods\n",
        "dataset['Close'].expanding(min_periods=1).mean().plot(figsize=(16,6))\n",
        "plt.title(\"Price Close minimum number of periods\")"
      ],
      "metadata": {
        "execution": {
          "iopub.status.busy": "2021-12-31T14:35:21.227155Z",
          "iopub.execute_input": "2021-12-31T14:35:21.227734Z",
          "iopub.status.idle": "2021-12-31T14:35:21.545063Z",
          "shell.execute_reply.started": "2021-12-31T14:35:21.227693Z",
          "shell.execute_reply": "2021-12-31T14:35:21.544376Z"
        },
        "trusted": true,
        "id": "im566wcDbaK7",
        "outputId": "a3b56cdb-1447-414a-906c-e86e457aebde",
        "colab": {
          "base_uri": "https://localhost:8080/",
          "height": 401
        }
      },
      "execution_count": 40,
      "outputs": [
        {
          "output_type": "execute_result",
          "data": {
            "text/plain": [
              "Text(0.5, 1.0, 'Price Close minimum number of periods')"
            ]
          },
          "metadata": {},
          "execution_count": 40
        },
        {
          "output_type": "display_data",
          "data": {
            "text/plain": [
              "<Figure size 1152x432 with 1 Axes>"
            ],
            "image/png": "[encoded data removed]"
          },
          "metadata": {
            "needs_background": "light"
          }
        }
      ]
    },
    {
      "cell_type": "code",
      "source": [
        "training_set=dataset['Open']\n",
        "training_set=pd.DataFrame(training_set)"
      ],
      "metadata": {
        "execution": {
          "iopub.status.busy": "2021-12-31T14:35:21.546543Z",
          "iopub.execute_input": "2021-12-31T14:35:21.54754Z",
          "iopub.status.idle": "2021-12-31T14:35:21.553875Z",
          "shell.execute_reply.started": "2021-12-31T14:35:21.547479Z",
          "shell.execute_reply": "2021-12-31T14:35:21.552975Z"
        },
        "trusted": true,
        "id": "dj1BZwmibaK8"
      },
      "execution_count": 41,
      "outputs": []
    },
    {
      "cell_type": "code",
      "source": [
        "# Feature Scaling\n",
        "from sklearn.preprocessing import MinMaxScaler\n",
        "sc = MinMaxScaler(feature_range = (0, 1))\n",
        "training_set_scaled = sc.fit_transform(training_set)"
      ],
      "metadata": {
        "execution": {
          "iopub.status.busy": "2021-12-31T14:35:21.555552Z",
          "iopub.execute_input": "2021-12-31T14:35:21.555935Z",
          "iopub.status.idle": "2021-12-31T14:35:22.495594Z",
          "shell.execute_reply.started": "2021-12-31T14:35:21.555892Z",
          "shell.execute_reply": "2021-12-31T14:35:22.494953Z"
        },
        "trusted": true,
        "id": "KfqmiFX0baK9"
      },
      "execution_count": 42,
      "outputs": []
    },
    {
      "cell_type": "code",
      "source": [
        "# Creating a data structure with 60 timesteps and 1 output\n",
        "X_train = []\n",
        "y_train = []\n",
        "for i in range(60, 1258):\n",
        "    X_train.append(training_set_scaled[i-60:i, 0])\n",
        "    y_train.append(training_set_scaled[i, 0])\n",
        "X_train, y_train = np.array(X_train), np.array(y_train)\n",
        "\n",
        "# Reshaping\n",
        "X_train = np.reshape(X_train, (X_train.shape[0], X_train.shape[1], 1))"
      ],
      "metadata": {
        "execution": {
          "iopub.status.busy": "2021-12-31T14:35:22.497115Z",
          "iopub.execute_input": "2021-12-31T14:35:22.497639Z",
          "iopub.status.idle": "2021-12-31T14:35:22.509968Z",
          "shell.execute_reply.started": "2021-12-31T14:35:22.497594Z",
          "shell.execute_reply": "2021-12-31T14:35:22.509249Z"
        },
        "trusted": true,
        "id": "j3dxNWPwbaK9"
      },
      "execution_count": 43,
      "outputs": []
    },
    {
      "cell_type": "code",
      "source": [
        "#Building the RNN\n",
        "#Importing the Keras libraries and packages\n",
        "from keras.models import Sequential\n",
        "from keras.layers import Dense\n",
        "from keras.layers import LSTM\n",
        "from keras.layers import Dropout"
      ],
      "metadata": {
        "execution": {
          "iopub.status.busy": "2021-12-31T14:35:22.511505Z",
          "iopub.execute_input": "2021-12-31T14:35:22.512079Z",
          "iopub.status.idle": "2021-12-31T14:35:28.797887Z",
          "shell.execute_reply.started": "2021-12-31T14:35:22.512038Z",
          "shell.execute_reply": "2021-12-31T14:35:28.79709Z"
        },
        "trusted": true,
        "id": "FUFcQ8PhbaK9"
      },
      "execution_count": 44,
      "outputs": []
    },
    {
      "cell_type": "code",
      "source": [
        "# Initialising the RNN\n",
        "model = Sequential()"
      ],
      "metadata": {
        "execution": {
          "iopub.status.busy": "2021-12-31T14:35:28.799087Z",
          "iopub.execute_input": "2021-12-31T14:35:28.799682Z",
          "iopub.status.idle": "2021-12-31T14:35:28.861168Z",
          "shell.execute_reply.started": "2021-12-31T14:35:28.79965Z",
          "shell.execute_reply": "2021-12-31T14:35:28.860423Z"
        },
        "trusted": true,
        "id": "DSGMiaJKbaK-"
      },
      "execution_count": 45,
      "outputs": []
    },
    {
      "cell_type": "code",
      "source": [
        "X_train.shape, y_train.shape"
      ],
      "metadata": {
        "id": "EsaQ5SZRQIzG",
        "outputId": "1d3dc4e5-336f-4e87-bb0a-3191f9a42fb2",
        "colab": {
          "base_uri": "https://localhost:8080/"
        }
      },
      "execution_count": 46,
      "outputs": [
        {
          "output_type": "execute_result",
          "data": {
            "text/plain": [
              "((1198, 60, 1), (1198,))"
            ]
          },
          "metadata": {},
          "execution_count": 46
        }
      ]
    },
    {
      "cell_type": "code",
      "source": [
        "from os import name\n",
        "# Adding the first LSTM layer and some Dropout regularisation\n",
        "# Adding a second LSTM layer and some Dropout regularisation\n",
        "# Adding a third LSTM layer and some Dropout regularisation\n",
        "# Adding a fourth LSTM layer and some Dropout regularisation\n",
        "# Adding the output layer\n",
        "# Code here\n",
        "model.add(LSTM(units = 32, activation = 'relu', return_sequences = True, input_shape = (X_train.shape[1], 1)))\n",
        "model.add(Dropout(0.2, name='Dropout-1'))\n",
        "model.add(LSTM(units = 32, activation = 'relu', return_sequences = True))\n",
        "model.add(Dropout(0.3, name='Dropout-2'))\n",
        "model.add(LSTM(units = 16, activation = 'relu', return_sequences = True))\n",
        "model.add(Dropout(0.4, name='Dropout-3'))\n",
        "model.add(LSTM(units = 8, activation = 'relu'))\n",
        "model.add(Dropout(0.5, name='Dropout-4'))\n",
        "model.add(Dense(units=1))\n",
        "model.summary()"
      ],
      "metadata": {
        "execution": {
          "iopub.status.busy": "2021-12-31T14:35:28.862832Z",
          "iopub.execute_input": "2021-12-31T14:35:28.863248Z",
          "iopub.status.idle": "2021-12-31T14:35:29.951789Z",
          "shell.execute_reply.started": "2021-12-31T14:35:28.863209Z",
          "shell.execute_reply": "2021-12-31T14:35:29.950751Z"
        },
        "trusted": true,
        "id": "LZ34x4R-baK-",
        "outputId": "14858144-b32b-478a-af01-a5895001cf4b",
        "colab": {
          "base_uri": "https://localhost:8080/"
        }
      },
      "execution_count": 47,
      "outputs": [
        {
          "output_type": "stream",
          "name": "stdout",
          "text": [
            "Model: \"sequential_1\"\n",
            "_________________________________________________________________\n",
            " Layer (type)                Output Shape              Param #   \n",
            "=================================================================\n",
            " lstm_5 (LSTM)               (None, 60, 32)            4352      \n",
            "                                                                 \n",
            " Dropout-1 (Dropout)         (None, 60, 32)            0         \n",
            "                                                                 \n",
            " lstm_6 (LSTM)               (None, 60, 32)            8320      \n",
            "                                                                 \n",
            " Dropout-2 (Dropout)         (None, 60, 32)            0         \n",
            "                                                                 \n",
            " lstm_7 (LSTM)               (None, 60, 16)            3136      \n",
            "                                                                 \n",
            " Dropout-3 (Dropout)         (None, 60, 16)            0         \n",
            "                                                                 \n",
            " lstm_8 (LSTM)               (None, 8)                 800       \n",
            "                                                                 \n",
            " Dropout-4 (Dropout)         (None, 8)                 0         \n",
            "                                                                 \n",
            " dense_1 (Dense)             (None, 1)                 9         \n",
            "                                                                 \n",
            "=================================================================\n",
            "Total params: 16,617\n",
            "Trainable params: 16,617\n",
            "Non-trainable params: 0\n",
            "_________________________________________________________________\n"
          ]
        }
      ]
    },
    {
      "cell_type": "code",
      "source": [
        "# Compiling the RNN\n",
        "# Code here\n",
        "model.compile(optimizer = 'adam', loss = 'mean_squared_error')"
      ],
      "metadata": {
        "id": "rTVMT3NCc441"
      },
      "execution_count": 48,
      "outputs": []
    },
    {
      "cell_type": "code",
      "source": [
        "# Fitting the RNN to the Training set\n",
        "epoch = 100 \n",
        "batch_size = 32\n",
        "model.fit(X_train, y_train, batch_size = batch_size, epochs = epoch)"
      ],
      "metadata": {
        "execution": {
          "iopub.status.busy": "2021-12-31T14:35:29.953114Z",
          "iopub.execute_input": "2021-12-31T14:35:29.953386Z",
          "iopub.status.idle": "2021-12-31T14:48:14.913309Z",
          "shell.execute_reply.started": "2021-12-31T14:35:29.953352Z",
          "shell.execute_reply": "2021-12-31T14:48:14.912451Z"
        },
        "trusted": true,
        "id": "bdeEsdyMbaK_",
        "outputId": "fc9cbb31-2b4c-4efd-ca4e-150f73618a1b",
        "colab": {
          "base_uri": "https://localhost:8080/"
        }
      },
      "execution_count": 49,
      "outputs": [
        {
          "output_type": "stream",
          "name": "stdout",
          "text": [
            "Epoch 1/100\n",
            "38/38 [==============================] - 8s 90ms/step - loss: 0.2405\n",
            "Epoch 2/100\n",
            "38/38 [==============================] - 3s 90ms/step - loss: 0.1226\n",
            "Epoch 3/100\n",
            "38/38 [==============================] - 3s 91ms/step - loss: 0.0812\n",
            "Epoch 4/100\n",
            "38/38 [==============================] - 3s 90ms/step - loss: 0.0597\n",
            "Epoch 5/100\n",
            "38/38 [==============================] - 3s 90ms/step - loss: 0.0588\n",
            "Epoch 6/100\n",
            "38/38 [==============================] - 3s 89ms/step - loss: 0.0478\n",
            "Epoch 7/100\n",
            "38/38 [==============================] - 3s 89ms/step - loss: 0.0479\n",
            "Epoch 8/100\n",
            "38/38 [==============================] - 3s 90ms/step - loss: 0.0475\n",
            "Epoch 9/100\n",
            "38/38 [==============================] - 3s 90ms/step - loss: 0.0430\n",
            "Epoch 10/100\n",
            "38/38 [==============================] - 3s 91ms/step - loss: 0.0471\n",
            "Epoch 11/100\n",
            "38/38 [==============================] - 3s 90ms/step - loss: 0.0406\n",
            "Epoch 12/100\n",
            "38/38 [==============================] - 3s 92ms/step - loss: 0.0363\n",
            "Epoch 13/100\n",
            "38/38 [==============================] - 3s 90ms/step - loss: 0.0314\n",
            "Epoch 14/100\n",
            "38/38 [==============================] - 3s 89ms/step - loss: 0.0353\n",
            "Epoch 15/100\n",
            "38/38 [==============================] - 3s 89ms/step - loss: 0.0369\n",
            "Epoch 16/100\n",
            "38/38 [==============================] - 3s 91ms/step - loss: 0.0290\n",
            "Epoch 17/100\n",
            "38/38 [==============================] - 3s 90ms/step - loss: 0.0281\n",
            "Epoch 18/100\n",
            "38/38 [==============================] - 3s 90ms/step - loss: 0.0262\n",
            "Epoch 19/100\n",
            "38/38 [==============================] - 3s 91ms/step - loss: 0.0274\n",
            "Epoch 20/100\n",
            "38/38 [==============================] - 3s 90ms/step - loss: 0.0268\n",
            "Epoch 21/100\n",
            "38/38 [==============================] - 3s 91ms/step - loss: 0.0237\n",
            "Epoch 22/100\n",
            "38/38 [==============================] - 3s 91ms/step - loss: 0.0225\n",
            "Epoch 23/100\n",
            "38/38 [==============================] - 4s 108ms/step - loss: 0.0237\n",
            "Epoch 24/100\n",
            "38/38 [==============================] - 3s 89ms/step - loss: 0.0210\n",
            "Epoch 25/100\n",
            "38/38 [==============================] - 3s 89ms/step - loss: 0.0223\n",
            "Epoch 26/100\n",
            "38/38 [==============================] - 3s 90ms/step - loss: 0.0192\n",
            "Epoch 27/100\n",
            "38/38 [==============================] - 3s 90ms/step - loss: 0.0195\n",
            "Epoch 28/100\n",
            "38/38 [==============================] - 3s 91ms/step - loss: 0.0193\n",
            "Epoch 29/100\n",
            "38/38 [==============================] - 3s 90ms/step - loss: 0.0196\n",
            "Epoch 30/100\n",
            "38/38 [==============================] - 3s 90ms/step - loss: 0.0196\n",
            "Epoch 31/100\n",
            "38/38 [==============================] - 3s 91ms/step - loss: 0.0190\n",
            "Epoch 32/100\n",
            "38/38 [==============================] - 3s 90ms/step - loss: 0.0183\n",
            "Epoch 33/100\n",
            "38/38 [==============================] - 3s 89ms/step - loss: 0.0174\n",
            "Epoch 34/100\n",
            "38/38 [==============================] - 3s 90ms/step - loss: 0.0174\n",
            "Epoch 35/100\n",
            "38/38 [==============================] - 3s 90ms/step - loss: 0.0199\n",
            "Epoch 36/100\n",
            "38/38 [==============================] - 3s 89ms/step - loss: 0.0173\n",
            "Epoch 37/100\n",
            "38/38 [==============================] - 3s 90ms/step - loss: 0.0184\n",
            "Epoch 38/100\n",
            "38/38 [==============================] - 3s 89ms/step - loss: 0.0186\n",
            "Epoch 39/100\n",
            "38/38 [==============================] - 3s 90ms/step - loss: 0.0166\n",
            "Epoch 40/100\n",
            "38/38 [==============================] - 3s 91ms/step - loss: 0.0178\n",
            "Epoch 41/100\n",
            "38/38 [==============================] - 3s 91ms/step - loss: 0.0195\n",
            "Epoch 42/100\n",
            "38/38 [==============================] - 3s 90ms/step - loss: 0.0190\n",
            "Epoch 43/100\n",
            "38/38 [==============================] - 3s 90ms/step - loss: 0.0166\n",
            "Epoch 44/100\n",
            "38/38 [==============================] - 3s 89ms/step - loss: 0.0187\n",
            "Epoch 45/100\n",
            "38/38 [==============================] - 3s 89ms/step - loss: 0.0180\n",
            "Epoch 46/100\n",
            "38/38 [==============================] - 3s 88ms/step - loss: 0.0166\n",
            "Epoch 47/100\n",
            "38/38 [==============================] - 3s 88ms/step - loss: 0.0174\n",
            "Epoch 48/100\n",
            "38/38 [==============================] - 3s 89ms/step - loss: 0.0175\n",
            "Epoch 49/100\n",
            "38/38 [==============================] - 3s 88ms/step - loss: 0.0171\n",
            "Epoch 50/100\n",
            "38/38 [==============================] - 3s 92ms/step - loss: 0.0162\n",
            "Epoch 51/100\n",
            "38/38 [==============================] - 3s 89ms/step - loss: 0.0169\n",
            "Epoch 52/100\n",
            "38/38 [==============================] - 3s 88ms/step - loss: 0.0169\n",
            "Epoch 53/100\n",
            "38/38 [==============================] - 3s 89ms/step - loss: 0.0166\n",
            "Epoch 54/100\n",
            "38/38 [==============================] - 3s 88ms/step - loss: 0.0180\n",
            "Epoch 55/100\n",
            "38/38 [==============================] - 3s 89ms/step - loss: 0.0170\n",
            "Epoch 56/100\n",
            "38/38 [==============================] - 3s 90ms/step - loss: 0.0162\n",
            "Epoch 57/100\n",
            "38/38 [==============================] - 3s 89ms/step - loss: 0.0156\n",
            "Epoch 58/100\n",
            "38/38 [==============================] - 3s 90ms/step - loss: 0.0175\n",
            "Epoch 59/100\n",
            "38/38 [==============================] - 3s 90ms/step - loss: 0.0180\n",
            "Epoch 60/100\n",
            "38/38 [==============================] - 3s 89ms/step - loss: 0.0177\n",
            "Epoch 61/100\n",
            "38/38 [==============================] - 3s 90ms/step - loss: 0.0189\n",
            "Epoch 62/100\n",
            "38/38 [==============================] - 3s 88ms/step - loss: 0.0171\n",
            "Epoch 63/100\n",
            "38/38 [==============================] - 3s 89ms/step - loss: 0.0174\n",
            "Epoch 64/100\n",
            "38/38 [==============================] - 3s 88ms/step - loss: 0.0187\n",
            "Epoch 65/100\n",
            "38/38 [==============================] - 3s 90ms/step - loss: 0.0167\n",
            "Epoch 66/100\n",
            "38/38 [==============================] - 3s 90ms/step - loss: 0.0182\n",
            "Epoch 67/100\n",
            "38/38 [==============================] - 3s 89ms/step - loss: 0.0169\n",
            "Epoch 68/100\n",
            "38/38 [==============================] - 3s 90ms/step - loss: 0.0154\n",
            "Epoch 69/100\n",
            "38/38 [==============================] - 3s 89ms/step - loss: 0.0163\n",
            "Epoch 70/100\n",
            "38/38 [==============================] - 3s 89ms/step - loss: 0.0172\n",
            "Epoch 71/100\n",
            "38/38 [==============================] - 3s 89ms/step - loss: 0.0180\n",
            "Epoch 72/100\n",
            "38/38 [==============================] - 3s 90ms/step - loss: 0.0174\n",
            "Epoch 73/100\n",
            "38/38 [==============================] - 3s 90ms/step - loss: 0.0150\n",
            "Epoch 74/100\n",
            "38/38 [==============================] - 3s 91ms/step - loss: 0.0181\n",
            "Epoch 75/100\n",
            "38/38 [==============================] - 3s 91ms/step - loss: 0.0162\n",
            "Epoch 76/100\n",
            "38/38 [==============================] - 3s 90ms/step - loss: 0.0168\n",
            "Epoch 77/100\n",
            "38/38 [==============================] - 3s 90ms/step - loss: 0.0169\n",
            "Epoch 78/100\n",
            "38/38 [==============================] - 3s 89ms/step - loss: 0.0157\n",
            "Epoch 79/100\n",
            "38/38 [==============================] - 3s 90ms/step - loss: 0.0175\n",
            "Epoch 80/100\n",
            "38/38 [==============================] - 3s 90ms/step - loss: 0.0167\n",
            "Epoch 81/100\n",
            "38/38 [==============================] - 3s 90ms/step - loss: 0.0157\n",
            "Epoch 82/100\n",
            "38/38 [==============================] - 3s 89ms/step - loss: 0.0166\n",
            "Epoch 83/100\n",
            "38/38 [==============================] - 3s 92ms/step - loss: 0.0162\n",
            "Epoch 84/100\n",
            "38/38 [==============================] - 3s 91ms/step - loss: 0.0165\n",
            "Epoch 85/100\n",
            "38/38 [==============================] - 3s 90ms/step - loss: 0.0151\n",
            "Epoch 86/100\n",
            "38/38 [==============================] - 3s 90ms/step - loss: 0.0168\n",
            "Epoch 87/100\n",
            "38/38 [==============================] - 3s 89ms/step - loss: 0.0166\n",
            "Epoch 88/100\n",
            "38/38 [==============================] - 3s 91ms/step - loss: 0.0159\n",
            "Epoch 89/100\n",
            "38/38 [==============================] - 3s 91ms/step - loss: 0.0171\n",
            "Epoch 90/100\n",
            "38/38 [==============================] - 3s 90ms/step - loss: 0.0157\n",
            "Epoch 91/100\n",
            "38/38 [==============================] - 3s 91ms/step - loss: 0.0167\n",
            "Epoch 92/100\n",
            "38/38 [==============================] - 4s 92ms/step - loss: 0.0160\n",
            "Epoch 93/100\n",
            "38/38 [==============================] - 3s 92ms/step - loss: 0.0155\n",
            "Epoch 94/100\n",
            "38/38 [==============================] - 3s 91ms/step - loss: 0.0169\n",
            "Epoch 95/100\n",
            "38/38 [==============================] - 3s 91ms/step - loss: 0.0176\n",
            "Epoch 96/100\n",
            "38/38 [==============================] - 3s 91ms/step - loss: 0.0167\n",
            "Epoch 97/100\n",
            "38/38 [==============================] - 3s 91ms/step - loss: 0.0170\n",
            "Epoch 98/100\n",
            "38/38 [==============================] - 3s 90ms/step - loss: 0.0175\n",
            "Epoch 99/100\n",
            "38/38 [==============================] - 3s 91ms/step - loss: 0.0180\n",
            "Epoch 100/100\n",
            "38/38 [==============================] - 3s 90ms/step - loss: 0.0168\n"
          ]
        },
        {
          "output_type": "execute_result",
          "data": {
            "text/plain": [
              "<keras.callbacks.History at 0x7f6a9a55d550>"
            ]
          },
          "metadata": {},
          "execution_count": 49
        }
      ]
    },
    {
      "cell_type": "code",
      "source": [
        "# Making the predictions and visualising the results\n",
        "# Getting the real stock price of 2017\n",
        "dataset_test = pd.read_csv('/content/drive/MyDrive/PROA/Assignment/Google_Stock_Price_Test.csv',index_col=\"Date\",parse_dates=True)"
      ],
      "metadata": {
        "execution": {
          "iopub.status.busy": "2021-12-31T14:48:14.914787Z",
          "iopub.execute_input": "2021-12-31T14:48:14.915089Z",
          "iopub.status.idle": "2021-12-31T14:48:14.933152Z",
          "shell.execute_reply.started": "2021-12-31T14:48:14.915056Z",
          "shell.execute_reply": "2021-12-31T14:48:14.932433Z"
        },
        "trusted": true,
        "id": "YY1jzgAJbaK_"
      },
      "execution_count": 51,
      "outputs": []
    },
    {
      "cell_type": "code",
      "source": [
        "real_stock_price = dataset_test.iloc[:, 1:2].values"
      ],
      "metadata": {
        "execution": {
          "iopub.status.busy": "2021-12-31T14:48:14.934777Z",
          "iopub.execute_input": "2021-12-31T14:48:14.935248Z",
          "iopub.status.idle": "2021-12-31T14:48:14.943925Z",
          "shell.execute_reply.started": "2021-12-31T14:48:14.935208Z",
          "shell.execute_reply": "2021-12-31T14:48:14.94287Z"
        },
        "trusted": true,
        "id": "lpCnXKbFbaLA"
      },
      "execution_count": 52,
      "outputs": []
    },
    {
      "cell_type": "code",
      "source": [
        "dataset_test[\"Volume\"] = dataset_test[\"Volume\"].str.replace(',', '').astype(float)"
      ],
      "metadata": {
        "execution": {
          "iopub.status.busy": "2021-12-31T14:48:14.991426Z",
          "iopub.execute_input": "2021-12-31T14:48:14.992258Z",
          "iopub.status.idle": "2021-12-31T14:48:14.998345Z",
          "shell.execute_reply.started": "2021-12-31T14:48:14.992209Z",
          "shell.execute_reply": "2021-12-31T14:48:14.997407Z"
        },
        "trusted": true,
        "id": "WIDgUe-DbaLA"
      },
      "execution_count": 53,
      "outputs": []
    },
    {
      "cell_type": "code",
      "source": [
        "test_set=dataset_test['Open']\n",
        "test_set=pd.DataFrame(test_set)"
      ],
      "metadata": {
        "execution": {
          "iopub.status.busy": "2021-12-31T14:48:14.999507Z",
          "iopub.execute_input": "2021-12-31T14:48:15.000237Z",
          "iopub.status.idle": "2021-12-31T14:48:15.017831Z",
          "shell.execute_reply.started": "2021-12-31T14:48:15.000203Z",
          "shell.execute_reply": "2021-12-31T14:48:15.016702Z"
        },
        "trusted": true,
        "id": "WzYa7xURbaLB"
      },
      "execution_count": 54,
      "outputs": []
    },
    {
      "cell_type": "code",
      "source": [
        "test_set.info()"
      ],
      "metadata": {
        "execution": {
          "iopub.status.busy": "2021-12-31T14:48:15.019256Z",
          "iopub.execute_input": "2021-12-31T14:48:15.01964Z",
          "iopub.status.idle": "2021-12-31T14:48:15.036609Z",
          "shell.execute_reply.started": "2021-12-31T14:48:15.019605Z",
          "shell.execute_reply": "2021-12-31T14:48:15.035924Z"
        },
        "trusted": true,
        "id": "PcruOHHqbaLB",
        "outputId": "e9522738-98dd-4f50-ad28-78df171c1d3c",
        "colab": {
          "base_uri": "https://localhost:8080/"
        }
      },
      "execution_count": 55,
      "outputs": [
        {
          "output_type": "stream",
          "name": "stdout",
          "text": [
            "<class 'pandas.core.frame.DataFrame'>\n",
            "DatetimeIndex: 20 entries, 2017-01-03 to 2017-01-31\n",
            "Data columns (total 1 columns):\n",
            " #   Column  Non-Null Count  Dtype  \n",
            "---  ------  --------------  -----  \n",
            " 0   Open    20 non-null     float64\n",
            "dtypes: float64(1)\n",
            "memory usage: 320.0 bytes\n"
          ]
        }
      ]
    },
    {
      "cell_type": "code",
      "source": [
        "# Getting the predicted stock price of 2017\n",
        "dataset_total = pd.concat((dataset['Open'], dataset_test['Open']), axis = 0)\n",
        "inputs = dataset_total[len(dataset_total) - len(dataset_test) - 60:].values\n",
        "inputs = inputs.reshape(-1,1)\n",
        "inputs = sc.transform(inputs)\n",
        "X_test = []\n",
        "for i in range(60, 80):\n",
        "    X_test.append(inputs[i-60:i, 0])\n",
        "X_test = np.array(X_test)\n",
        "X_test = np.reshape(X_test, (X_test.shape[0], X_test.shape[1], 1))\n",
        "predicted_stock_price = model.predict(X_test)\n",
        "predicted_stock_price = sc.inverse_transform(predicted_stock_price)"
      ],
      "metadata": {
        "execution": {
          "iopub.status.busy": "2021-12-31T14:48:15.038307Z",
          "iopub.execute_input": "2021-12-31T14:48:15.038737Z",
          "iopub.status.idle": "2021-12-31T14:48:16.799857Z",
          "shell.execute_reply.started": "2021-12-31T14:48:15.038704Z",
          "shell.execute_reply": "2021-12-31T14:48:16.799182Z"
        },
        "trusted": true,
        "id": "WKSGk59LbaLC",
        "outputId": "32da2794-594a-4d0d-f177-16df3fc6036a",
        "colab": {
          "base_uri": "https://localhost:8080/"
        }
      },
      "execution_count": 56,
      "outputs": [
        {
          "output_type": "stream",
          "name": "stderr",
          "text": [
            "/usr/local/lib/python3.7/dist-packages/sklearn/base.py:451: UserWarning: X does not have valid feature names, but MinMaxScaler was fitted with feature names\n",
            "  \"X does not have valid feature names, but\"\n"
          ]
        }
      ]
    },
    {
      "cell_type": "code",
      "source": [
        "predicted_stock_price=pd.DataFrame(predicted_stock_price)\n",
        "predicted_stock_price.info()"
      ],
      "metadata": {
        "execution": {
          "iopub.status.busy": "2021-12-31T14:48:16.801357Z",
          "iopub.execute_input": "2021-12-31T14:48:16.801787Z",
          "iopub.status.idle": "2021-12-31T14:48:16.813977Z",
          "shell.execute_reply.started": "2021-12-31T14:48:16.801755Z",
          "shell.execute_reply": "2021-12-31T14:48:16.812756Z"
        },
        "trusted": true,
        "id": "KBDqv8A9baLC",
        "outputId": "31840394-d651-40e0-d94a-a562ea838f05",
        "colab": {
          "base_uri": "https://localhost:8080/"
        }
      },
      "execution_count": 57,
      "outputs": [
        {
          "output_type": "stream",
          "name": "stdout",
          "text": [
            "<class 'pandas.core.frame.DataFrame'>\n",
            "RangeIndex: 20 entries, 0 to 19\n",
            "Data columns (total 1 columns):\n",
            " #   Column  Non-Null Count  Dtype  \n",
            "---  ------  --------------  -----  \n",
            " 0   0       20 non-null     float32\n",
            "dtypes: float32(1)\n",
            "memory usage: 208.0 bytes\n"
          ]
        }
      ]
    },
    {
      "cell_type": "code",
      "source": [
        "# Visualising the results\n",
        "plt.plot(real_stock_price, color = 'red', label = 'Real Google Stock Price')\n",
        "plt.plot(predicted_stock_price, color = 'blue', label = 'Predicted Google Stock Price')\n",
        "plt.title('Google Stock Price Prediction')\n",
        "plt.xlabel('Time')\n",
        "plt.ylabel('Google Stock Price')\n",
        "plt.legend()\n",
        "plt.show()\n"
      ],
      "metadata": {
        "execution": {
          "iopub.status.busy": "2021-12-31T14:48:16.81709Z",
          "iopub.execute_input": "2021-12-31T14:48:16.817608Z",
          "iopub.status.idle": "2021-12-31T14:48:17.101431Z",
          "shell.execute_reply.started": "2021-12-31T14:48:16.817559Z",
          "shell.execute_reply": "2021-12-31T14:48:17.100372Z"
        },
        "trusted": true,
        "id": "eDZyX3IybaLC",
        "outputId": "2a0e91fd-98e7-4ffb-f266-412247db63ea",
        "colab": {
          "base_uri": "https://localhost:8080/",
          "height": 295
        }
      },
      "execution_count": 58,
      "outputs": [
        {
          "output_type": "display_data",
          "data": {
            "text/plain": [
              "<Figure size 432x288 with 1 Axes>"
            ],
            "image/png": "[encoded data removed]"
          },
          "metadata": {
            "needs_background": "light"
          }
        }
      ]
    }
  ]
}