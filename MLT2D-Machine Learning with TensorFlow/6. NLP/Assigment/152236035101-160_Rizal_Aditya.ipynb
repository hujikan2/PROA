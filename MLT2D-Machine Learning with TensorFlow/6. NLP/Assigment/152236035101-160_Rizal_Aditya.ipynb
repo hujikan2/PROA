{
  "cells": [
    {
      "cell_type": "code",
      "execution_count": 1,
      "metadata": {
        "_cell_guid": "b1076dfc-b9ad-4769-8c92-a6c4dae69d19",
        "_uuid": "8f2839f25d086af736a60e9eeb907d3b93b6e0e5",
        "execution": {
          "iopub.execute_input": "2021-10-28T16:49:56.359603Z",
          "iopub.status.busy": "2021-10-28T16:49:56.359082Z",
          "iopub.status.idle": "2021-10-28T16:49:56.365625Z",
          "shell.execute_reply": "2021-10-28T16:49:56.364911Z",
          "shell.execute_reply.started": "2021-10-28T16:49:56.359565Z"
        },
        "id": "t68PiZcNQpq0",
        "trusted": true
      },
      "outputs": [],
      "source": [
        "import re\n",
        "import string\n",
        "import numpy as np\n",
        "import pandas as pd\n",
        "import matplotlib.pyplot as plt\n",
        "\n",
        "from sklearn.preprocessing import LabelEncoder\n",
        "from sklearn.model_selection import train_test_split\n",
        "\n",
        "from tensorflow.keras.utils import to_categorical\n",
        "from tensorflow.keras.preprocessing.text import Tokenizer\n",
        "from tensorflow.keras.preprocessing.sequence import pad_sequences\n",
        "\n",
        "from tensorflow.keras.optimizers import Adam\n",
        "from tensorflow.keras.models import Sequential\n",
        "from tensorflow.keras.callbacks import EarlyStopping\n",
        "from tensorflow.keras.layers import Dense, LSTM, Embedding, Bidirectional"
      ]
    },
    {
      "cell_type": "code",
      "execution_count": 2,
      "metadata": {
        "colab": {
          "base_uri": "https://localhost:8080/"
        },
        "id": "S5tbyjXjQ2FQ",
        "outputId": "1d5f8471-3482-4baa-8bc0-7352bbef3b33"
      },
      "outputs": [
        {
          "name": "stdout",
          "output_type": "stream",
          "text": [
            "Mounted at /content/drive\n"
          ]
        }
      ],
      "source": [
        "from google.colab import drive\n",
        "drive.mount('/content/drive')"
      ]
    },
    {
      "cell_type": "code",
      "execution_count": 3,
      "metadata": {
        "execution": {
          "iopub.execute_input": "2021-10-28T16:49:24.70831Z",
          "iopub.status.busy": "2021-10-28T16:49:24.707767Z",
          "iopub.status.idle": "2021-10-28T16:49:24.713891Z",
          "shell.execute_reply": "2021-10-28T16:49:24.712859Z",
          "shell.execute_reply.started": "2021-10-28T16:49:24.708271Z"
        },
        "id": "8D27h1V5Qpq5",
        "trusted": true
      },
      "outputs": [],
      "source": [
        "# Text preprocessing function\n",
        "str_punc = string.punctuation.replace(',', '').replace(\"'\",'')\n",
        "\n",
        "def clean(text):\n",
        "    global str_punc\n",
        "    text = re.sub(r'[^a-zA-Z ]', '', text)\n",
        "    text = text.lower()\n",
        "    return text    "
      ]
    },
    {
      "cell_type": "code",
      "execution_count": 4,
      "metadata": {
        "execution": {
          "iopub.execute_input": "2021-10-28T17:00:39.849444Z",
          "iopub.status.busy": "2021-10-28T17:00:39.84876Z",
          "iopub.status.idle": "2021-10-28T17:00:39.970872Z",
          "shell.execute_reply": "2021-10-28T17:00:39.970153Z",
          "shell.execute_reply.started": "2021-10-28T17:00:39.849404Z"
        },
        "id": "orwQDQnyQpq7",
        "trusted": true
      },
      "outputs": [],
      "source": [
        "# Read dataset & Preprocess text\n",
        "df_train = pd.read_csv('/content/drive/MyDrive/PROA/ML/Assignment/train.txt', names=['Text', 'Emotion'], sep=';')\n",
        "df_val = pd.read_csv('/content/drive/MyDrive/PROA/ML/Assignment/val.txt', names=['Text', 'Emotion'], sep=';')\n",
        "df_test = pd.read_csv('/content/drive/MyDrive/PROA/ML/Assignment/train.txt', names=['Text', 'Emotion'], sep=';')\n",
        "\n",
        "X_train = df_train['Text'].apply(clean)\n",
        "y_train = df_train['Emotion']\n",
        "\n",
        "X_test = df_test['Text'].apply(clean)\n",
        "y_test = df_test['Emotion']\n",
        "\n",
        "X_val = df_val['Text'].apply(clean)\n",
        "y_val = df_val['Emotion']"
      ]
    },
    {
      "cell_type": "code",
      "execution_count": 5,
      "metadata": {
        "colab": {
          "base_uri": "https://localhost:8080/",
          "height": 809
        },
        "execution": {
          "iopub.execute_input": "2021-10-28T17:00:42.264322Z",
          "iopub.status.busy": "2021-10-28T17:00:42.26372Z",
          "iopub.status.idle": "2021-10-28T17:00:42.812352Z",
          "shell.execute_reply": "2021-10-28T17:00:42.811716Z",
          "shell.execute_reply.started": "2021-10-28T17:00:42.264285Z"
        },
        "id": "_OFClA3aQpq9",
        "outputId": "b3190bf3-1dbc-4687-e5e9-c7fe7d0bf9c8",
        "trusted": true
      },
      "outputs": [
        {
          "data": {
            "image/png": "[encoded data removed]",
            "text/plain": [
              "<Figure size 432x288 with 1 Axes>"
            ]
          },
          "metadata": {
            "needs_background": "light"
          },
          "output_type": "display_data"
        },
        {
          "data": {
            "image/png": "[encoded data removed]",
            "text/plain": [
              "<Figure size 432x288 with 1 Axes>"
            ]
          },
          "metadata": {
            "needs_background": "light"
          },
          "output_type": "display_data"
        },
        {
          "data": {
            "image/png": "[encoded data removed]",
            "text/plain": [
              "<Figure size 432x288 with 1 Axes>"
            ]
          },
          "metadata": {
            "needs_background": "light"
          },
          "output_type": "display_data"
        }
      ],
      "source": [
        "# Visualize classes counts\n",
        "colors = np.array([\"gray\", 'orangered', 'hotpink', 'gold', 'teal', 'cornflowerblue'])\n",
        "\n",
        "plt.bar(y_train.unique(), y_train.value_counts(), color = colors)\n",
        "plt.title(\"Training data - classes counts\")\n",
        "plt.show()\n",
        "\n",
        "plt.bar(y_test.unique(), y_test.value_counts(), color = colors)\n",
        "plt.title(\"Testing data - classes counts\")\n",
        "plt.show()\n",
        "\n",
        "plt.bar(y_val.unique(), y_val.value_counts(), color = colors)\n",
        "plt.title(\"Validation data - classes counts\")\n",
        "plt.show()"
      ]
    },
    {
      "cell_type": "code",
      "execution_count": 6,
      "metadata": {
        "execution": {
          "iopub.execute_input": "2021-10-28T17:01:21.72706Z",
          "iopub.status.busy": "2021-10-28T17:01:21.726601Z",
          "iopub.status.idle": "2021-10-28T17:01:21.743992Z",
          "shell.execute_reply": "2021-10-28T17:01:21.743311Z",
          "shell.execute_reply.started": "2021-10-28T17:01:21.727018Z"
        },
        "id": "V9F2tWMGQpq_",
        "trusted": true
      },
      "outputs": [],
      "source": [
        "# Encode labels\n",
        "# Sudah disediakan beberapa variable, lengkapi variabel tersebut\n",
        "le = LabelEncoder()\n",
        "y_train = le.fit_transform(y_train)\n",
        "y_test = le.transform(y_test)\n",
        "y_val = le.transform(y_val)\n",
        "\n",
        "y_train = to_categorical(y_train)\n",
        "y_test = to_categorical(y_test)\n",
        "y_val = to_categorical(y_val)"
      ]
    },
    {
      "cell_type": "code",
      "execution_count": 7,
      "metadata": {
        "colab": {
          "base_uri": "https://localhost:8080/"
        },
        "execution": {
          "iopub.execute_input": "2021-10-28T17:01:29.161522Z",
          "iopub.status.busy": "2021-10-28T17:01:29.161255Z",
          "iopub.status.idle": "2021-10-28T17:01:30.218061Z",
          "shell.execute_reply": "2021-10-28T17:01:30.217279Z",
          "shell.execute_reply.started": "2021-10-28T17:01:29.161484Z"
        },
        "id": "d40kAQnHQprC",
        "outputId": "2bb7066f-b99e-4ac0-a4c9-3cfc0bb68ea4",
        "trusted": true
      },
      "outputs": [
        {
          "name": "stdout",
          "output_type": "stream",
          "text": [
            "Vocabulary size = 15213\n"
          ]
        }
      ],
      "source": [
        "# Tokenize words\n",
        "tokenizer = Tokenizer()\n",
        "tokenizer.fit_on_texts(pd.concat([X_train, X_test], axis=0))\n",
        "\n",
        "sequences_train = tokenizer.texts_to_sequences(X_train)\n",
        "sequences_test = tokenizer.texts_to_sequences(X_test)\n",
        "sequences_val = tokenizer.texts_to_sequences(X_val)\n",
        "\n",
        "X_train = pad_sequences(sequences_train, maxlen=256, truncating='pre')\n",
        "X_test = pad_sequences(sequences_test, maxlen=256, truncating='pre')\n",
        "X_val = pad_sequences(sequences_val, maxlen=256, truncating='pre')\n",
        "\n",
        "vocabSize = len(tokenizer.index_word) + 1\n",
        "print(f\"Vocabulary size = {vocabSize}\")"
      ]
    },
    {
      "cell_type": "code",
      "execution_count": 8,
      "metadata": {
        "colab": {
          "base_uri": "https://localhost:8080/"
        },
        "execution": {
          "iopub.execute_input": "2021-10-28T17:01:33.740659Z",
          "iopub.status.busy": "2021-10-28T17:01:33.7402Z",
          "iopub.status.idle": "2021-10-28T17:01:56.449165Z",
          "shell.execute_reply": "2021-10-28T17:01:56.44837Z",
          "shell.execute_reply.started": "2021-10-28T17:01:33.740619Z"
        },
        "id": "e67R2xDlQprD",
        "outputId": "3d889bed-d7f7-4e6c-d8f5-4a3d137f7459",
        "trusted": true
      },
      "outputs": [
        {
          "name": "stdout",
          "output_type": "stream",
          "text": [
            "Found 400000 word vectors.\n",
            "Converted 14212 words (1000 misses)\n"
          ]
        }
      ],
      "source": [
        "#Read GloVE embeddings\n",
        "path_to_glove_file = '/content/drive/MyDrive/PROA/ML/Assignment/glove.6B.200d.txt'\n",
        "num_tokens = vocabSize\n",
        "embedding_dim = 200\n",
        "hits = 0\n",
        "misses = 0\n",
        "embeddings_index = {}\n",
        "\n",
        "# Read word vectors\n",
        "with open(path_to_glove_file) as f:\n",
        "    for line in f:\n",
        "        word, coefs = line.split(maxsplit=1)\n",
        "        coefs = np.fromstring(coefs, \"f\", sep=\" \")\n",
        "        embeddings_index[word] = coefs\n",
        "print(\"Found %s word vectors.\" % len(embeddings_index))\n",
        "\n",
        "\n",
        "# Assign word vectors to our dictionary/vocabulary\n",
        "embedding_matrix = np.zeros((num_tokens, embedding_dim))\n",
        "for word, i in tokenizer.word_index.items():\n",
        "    embedding_vector = embeddings_index.get(word)\n",
        "    if embedding_vector is not None:\n",
        "        # Words not found in embedding index will be all-zeros.\n",
        "        # This includes the representation for \"padding\" and \"OOV\"\n",
        "        embedding_matrix[i] = embedding_vector\n",
        "        hits += 1\n",
        "    else:\n",
        "        misses += 1\n",
        "print(\"Converted %d words (%d misses)\" % (hits, misses))"
      ]
    },
    {
      "cell_type": "code",
      "execution_count": 23,
      "metadata": {
        "colab": {
          "base_uri": "https://localhost:8080/"
        },
        "id": "jxhs4luY9dPc",
        "outputId": "becbf910-66e0-451b-a377-0273c84c0ce4"
      },
      "outputs": [
        {
          "name": "stdout",
          "output_type": "stream",
          "text": [
            "Model: \"sequential_4\"\n",
            "_________________________________________________________________\n",
            " Layer (type)                Output Shape              Param #   \n",
            "=================================================================\n",
            " embedding_4 (Embedding)     (None, 256, 200)          3042600   \n",
            "                                                                 \n",
            " bidirectional_10 (Bidirecti  (None, 256, 256)         336896    \n",
            " onal)                                                           \n",
            "                                                                 \n",
            " bidirectional_11 (Bidirecti  (None, 512)              1050624   \n",
            " onal)                                                           \n",
            "                                                                 \n",
            " dense_14 (Dense)            (None, 256)               131328    \n",
            "                                                                 \n",
            " dense_15 (Dense)            (None, 128)               32896     \n",
            "                                                                 \n",
            " dense_16 (Dense)            (None, 64)                8256      \n",
            "                                                                 \n",
            " dense_17 (Dense)            (None, 6)                 390       \n",
            "                                                                 \n",
            "=================================================================\n",
            "Total params: 4,602,990\n",
            "Trainable params: 4,602,990\n",
            "Non-trainable params: 0\n",
            "_________________________________________________________________\n",
            "None\n"
          ]
        }
      ],
      "source": [
        "# Define \n",
        "# Embedding\n",
        "embedding_size = 200\n",
        "\n",
        "# Build neural network architecture\n",
        "model = Sequential([\n",
        "    Embedding(vocabSize, embedding_size, input_length=X_train.shape[1]),\n",
        "    Bidirectional(LSTM(128, return_sequences=True)),\n",
        "    Bidirectional(LSTM(256)),\n",
        "    Dense(256, activation='relu'),\n",
        "    Dense(128, activation='relu'),\n",
        "    Dense(64, activation='relu'),\n",
        "    Dense(6, activation='softmax')\n",
        "])\n",
        "\n",
        "# Model History\n",
        "print(model.summary())\n",
        "\n"
      ]
    },
    {
      "cell_type": "code",
      "execution_count": 24,
      "metadata": {
        "id": "OS4teYeaAnP2"
      },
      "outputs": [],
      "source": [
        "adam = Adam(learning_rate=0.005)\n",
        "model.compile(loss='categorical_crossentropy', optimizer=adam, metrics=['accuracy'])"
      ]
    },
    {
      "cell_type": "code",
      "execution_count": 25,
      "metadata": {
        "execution": {
          "iopub.execute_input": "2021-10-28T17:02:20.55807Z",
          "iopub.status.busy": "2021-10-28T17:02:20.557742Z",
          "iopub.status.idle": "2021-10-28T17:02:20.562524Z",
          "shell.execute_reply": "2021-10-28T17:02:20.561488Z",
          "shell.execute_reply.started": "2021-10-28T17:02:20.558037Z"
        },
        "id": "VSjuWsCsQprG",
        "trusted": true
      },
      "outputs": [],
      "source": [
        "#Callback\n",
        "callback = EarlyStopping(\n",
        "    monitor=\"val_loss\",\n",
        "    patience=3,\n",
        "    restore_best_weights=True,\n",
        ")"
      ]
    },
    {
      "cell_type": "code",
      "execution_count": 26,
      "metadata": {
        "colab": {
          "base_uri": "https://localhost:8080/"
        },
        "execution": {
          "iopub.execute_input": "2021-10-28T17:02:22.581177Z",
          "iopub.status.busy": "2021-10-28T17:02:22.580574Z",
          "iopub.status.idle": "2021-10-28T17:09:55.805217Z",
          "shell.execute_reply": "2021-10-28T17:09:55.804395Z",
          "shell.execute_reply.started": "2021-10-28T17:02:22.581141Z"
        },
        "id": "CM_GyHrFQprI",
        "outputId": "cec7f939-e7fd-45c9-c38c-43a7d0edca9c",
        "trusted": true
      },
      "outputs": [
        {
          "name": "stdout",
          "output_type": "stream",
          "text": [
            "Epoch 1/30\n",
            "63/63 [==============================] - 21s 233ms/step - loss: 1.4131 - accuracy: 0.4639 - val_loss: 1.0337 - val_accuracy: 0.6190\n",
            "Epoch 2/30\n",
            "63/63 [==============================] - 13s 212ms/step - loss: 0.6279 - accuracy: 0.7837 - val_loss: 0.4117 - val_accuracy: 0.8585\n",
            "Epoch 3/30\n",
            "63/63 [==============================] - 13s 213ms/step - loss: 0.2676 - accuracy: 0.9041 - val_loss: 0.2816 - val_accuracy: 0.9070\n",
            "Epoch 4/30\n",
            "63/63 [==============================] - 14s 219ms/step - loss: 0.1326 - accuracy: 0.9475 - val_loss: 0.2543 - val_accuracy: 0.9195\n",
            "Epoch 5/30\n",
            "63/63 [==============================] - 14s 217ms/step - loss: 0.0911 - accuracy: 0.9638 - val_loss: 0.2406 - val_accuracy: 0.9160\n",
            "Epoch 6/30\n",
            "63/63 [==============================] - 14s 217ms/step - loss: 0.0636 - accuracy: 0.9759 - val_loss: 0.2357 - val_accuracy: 0.9215\n",
            "Epoch 7/30\n",
            "63/63 [==============================] - 14s 218ms/step - loss: 0.0473 - accuracy: 0.9815 - val_loss: 0.2872 - val_accuracy: 0.9165\n",
            "Epoch 8/30\n",
            "63/63 [==============================] - 14s 219ms/step - loss: 0.0476 - accuracy: 0.9833 - val_loss: 0.2718 - val_accuracy: 0.9255\n",
            "Epoch 9/30\n",
            "63/63 [==============================] - 14s 220ms/step - loss: 0.0328 - accuracy: 0.9877 - val_loss: 0.2337 - val_accuracy: 0.9295\n",
            "Epoch 10/30\n",
            "63/63 [==============================] - 14s 220ms/step - loss: 0.0378 - accuracy: 0.9866 - val_loss: 0.2745 - val_accuracy: 0.9245\n",
            "Epoch 11/30\n",
            "63/63 [==============================] - 14s 221ms/step - loss: 0.0307 - accuracy: 0.9891 - val_loss: 0.2440 - val_accuracy: 0.9290\n",
            "Epoch 12/30\n",
            "63/63 [==============================] - 14s 222ms/step - loss: 0.0256 - accuracy: 0.9908 - val_loss: 0.2523 - val_accuracy: 0.9285\n"
          ]
        }
      ],
      "source": [
        "# Fit model\n",
        "history = model.fit(X_train,\n",
        "                    y_train,\n",
        "                    validation_data=(X_val, y_val),\n",
        "                    verbose=1,\n",
        "                    batch_size=256,\n",
        "                    epochs=30,\n",
        "                    callbacks=[callback]\n",
        "                   )"
      ]
    },
    {
      "cell_type": "code",
      "execution_count": 27,
      "metadata": {
        "colab": {
          "base_uri": "https://localhost:8080/"
        },
        "execution": {
          "iopub.execute_input": "2021-10-28T17:14:45.656436Z",
          "iopub.status.busy": "2021-10-28T17:14:45.655628Z",
          "iopub.status.idle": "2021-10-28T17:15:26.650347Z",
          "shell.execute_reply": "2021-10-28T17:15:26.649551Z",
          "shell.execute_reply.started": "2021-10-28T17:14:45.656399Z"
        },
        "id": "Duln-TnJQprI",
        "outputId": "01324bb8-63d4-4105-abb6-067d70426628",
        "trusted": true
      },
      "outputs": [
        {
          "name": "stdout",
          "output_type": "stream",
          "text": [
            "63/63 [==============================] - 2s 27ms/step - loss: 0.2337 - accuracy: 0.9295\n"
          ]
        },
        {
          "data": {
            "text/plain": [
              "[0.23374029994010925, 0.9294999837875366]"
            ]
          },
          "execution_count": 27,
          "metadata": {},
          "output_type": "execute_result"
        }
      ],
      "source": [
        "model.evaluate(X_val, y_val, verbose=1)"
      ]
    },
    {
      "cell_type": "code",
      "execution_count": 28,
      "metadata": {
        "colab": {
          "base_uri": "https://localhost:8080/",
          "height": 545
        },
        "execution": {
          "iopub.execute_input": "2021-10-28T17:15:31.08361Z",
          "iopub.status.busy": "2021-10-28T17:15:31.082882Z",
          "iopub.status.idle": "2021-10-28T17:15:31.495194Z",
          "shell.execute_reply": "2021-10-28T17:15:31.494441Z",
          "shell.execute_reply.started": "2021-10-28T17:15:31.083557Z"
        },
        "id": "0E60nVznQprO",
        "outputId": "102af56e-94e1-474a-9a0d-1f6f350fc941",
        "trusted": true
      },
      "outputs": [
        {
          "data": {
            "image/png": "[encoded data removed]",
            "text/plain": [
              "<Figure size 432x288 with 1 Axes>"
            ]
          },
          "metadata": {
            "needs_background": "light"
          },
          "output_type": "display_data"
        },
        {
          "data": {
            "image/png": "[encoded data removed]",
            "text/plain": [
              "<Figure size 432x288 with 1 Axes>"
            ]
          },
          "metadata": {
            "needs_background": "light"
          },
          "output_type": "display_data"
        }
      ],
      "source": [
        "# Visualize Loss & Accuracy\n",
        "\n",
        "%matplotlib inline\n",
        "import matplotlib.pyplot as plt\n",
        "acc = history.history['accuracy']\n",
        "val_acc = history.history['val_accuracy']\n",
        "loss = history.history['loss']\n",
        "val_loss = history.history['val_loss']\n",
        "\n",
        "epochs = range(len(acc))\n",
        "\n",
        "plt.plot(epochs, acc, 'r', label='Training accuracy')\n",
        "plt.plot(epochs, val_acc, 'b', label='Validation accuracy')\n",
        "plt.title('Training and validation accuracy')\n",
        "plt.legend()\n",
        "plt.figure()\n",
        "\n",
        "plt.plot(epochs, loss, 'r', label='Training Loss')\n",
        "plt.plot(epochs, val_loss, 'b', label='Validation Loss')\n",
        "plt.title('Training and validation loss')\n",
        "plt.legend()\n",
        "\n",
        "plt.show()"
      ]
    },
    {
      "cell_type": "code",
      "execution_count": 31,
      "metadata": {
        "colab": {
          "base_uri": "https://localhost:8080/"
        },
        "execution": {
          "iopub.execute_input": "2021-10-28T17:15:46.845844Z",
          "iopub.status.busy": "2021-10-28T17:15:46.84557Z",
          "iopub.status.idle": "2021-10-28T17:15:49.10411Z",
          "shell.execute_reply": "2021-10-28T17:15:49.103351Z",
          "shell.execute_reply.started": "2021-10-28T17:15:46.845813Z"
        },
        "id": "hFGFd0gQQprP",
        "outputId": "b9b0957a-dbe1-42ec-870d-cc08f0e82642",
        "trusted": true
      },
      "outputs": [
        {
          "name": "stdout",
          "output_type": "stream",
          "text": [
            "I think this lovely watch is very expensive\n",
            "love : 0.8793091177940369\n",
            "\n",
            "I’m not in a good mood.\n",
            "joy : 0.9616058468818665\n",
            "\n",
            "This is the lowest time in my life.\n",
            "sadness : 0.5370383858680725\n",
            "\n"
          ]
        }
      ],
      "source": [
        "# Classify custom sample\n",
        "\n",
        "sentences = [\"I think this lovely watch is very expensive\",\n",
        "             \"I’m not in a good mood.\",\n",
        "             \"This is the lowest time in my life.\"]\n",
        "for sentence in sentences:\n",
        "    print(sentence)\n",
        "    sentence = clean(sentence)\n",
        "    sentence = tokenizer.texts_to_sequences([sentence])\n",
        "    sentence = pad_sequences(sentence, maxlen=256, truncating='pre')\n",
        "    result = le.inverse_transform(np.argmax(model.predict(sentence), axis=-1))[0]\n",
        "    proba =  np.max(model.predict(sentence))\n",
        "    print(f\"{result} : {proba}\\n\")"
      ]
    },
    {
      "cell_type": "code",
      "execution_count": 32,
      "metadata": {
        "id": "1OAz47lBQprP"
      },
      "outputs": [],
      "source": [
        "import pickle\n",
        "with open('tokenizer.pickle', 'wb') as f:\n",
        "    pickle.dump(tokenizer, f)\n",
        "    \n",
        "with open('labelEncoder.pickle', 'wb') as f:\n",
        "    pickle.dump(le, f)\n",
        "    \n",
        "    \n",
        "model.save('Emotion Recognition.h5')"
      ]
    }
  ],
  "metadata": {
    "accelerator": "GPU",
    "colab": {
      "collapsed_sections": [],
      "name": "assignment_week_6.ipynb",
      "provenance": []
    },
    "gpuClass": "standard",
    "kernelspec": {
      "display_name": "Python 3",
      "language": "python",
      "name": "python3"
    },
    "language_info": {
      "codemirror_mode": {
        "name": "ipython",
        "version": 3
      },
      "file_extension": ".py",
      "mimetype": "text/x-python",
      "name": "python",
      "nbconvert_exporter": "python",
      "pygments_lexer": "ipython3",
      "version": "3.6.4"
    }
  },
  "nbformat": 4,
  "nbformat_minor": 0
}
