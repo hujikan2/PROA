{
  "cells": [
    {
      "cell_type": "markdown",
      "metadata": {
        "id": "sxhpzjurYY6R"
      },
      "source": [
        "###Excercise"
      ]
    },
    {
      "cell_type": "code",
      "execution_count": 83,
      "metadata": {
        "colab": {
          "base_uri": "https://localhost:8080/"
        },
        "id": "6WnwbrhxdGhC",
        "outputId": "d74e4f58-fa07-4d7f-e9e0-263988de817d"
      },
      "outputs": [
        {
          "name": "stdout",
          "output_type": "stream",
          "text": [
            "Volume balok adalah : 40 cm3\n"
          ]
        }
      ],
      "source": [
        "#Excercise\n",
        "#Buatlah sebuah fungsi untuk menghitung volume balok \n",
        "def volumeBalok(p,l,t):\n",
        "  #rumus\n",
        "  #Rumus volume balok adalah V = p × l × t\n",
        "  Volume = p * l * t\n",
        "  #cetak hasil\n",
        "  print(f\"Volume balok adalah : {Volume} cm3\")\n",
        "\n",
        "#panggil fungsi volume balok\n",
        "volumeBalok(5,4,2)"
      ]
    },
    {
      "cell_type": "code",
      "execution_count": 1,
      "metadata": {
        "colab": {
          "base_uri": "https://localhost:8080/"
        },
        "id": "Rs9dYKL11Io6",
        "outputId": "27d11493-3fd6-4f52-876b-33dfed812619"
      },
      "outputs": [
        {
          "name": "stdout",
          "output_type": "stream",
          "text": [
            "1 3 5 7 9 11 13 15 17 19 21 23 25 27 29 \n",
            "Total Angka Ganjil adalah 15\n"
          ]
        }
      ],
      "source": [
        "# Buat program untuk menghitung jumlah seluruh angka ganjil dalam suatu list\n",
        "# Input: list berisi angka-angka\n",
        "# Output: jumlah seluruh angka ganjil \n",
        "\n",
        "input_list = int(input(\"Masukkan Angka Untuk membuat list angka!! \\nContoh: 30 \\nSilahkan masukkan \"))\n",
        "pilihan = int(input(\"Masukan Pilihan : 1.Ganjil | 2.Genap : \"))\n",
        "\n",
        "count = 0\n",
        "if pilihan == 1:\n",
        "  for x in range (input_list):\n",
        "    if x % 2 == 1:\n",
        "      print(x, end = ' ')\n",
        "      count = count + 1\n",
        "  print('\\nTotal Angka Ganjil adalah %d' %count)\n",
        "else:\n",
        "  for x in range (input_list):\n",
        "    if x % 2 == 0:\n",
        "      print(\"Angka Genap\", x)\n"
      ]
    },
    {
      "cell_type": "code",
      "execution_count": 85,
      "metadata": {
        "colab": {
          "base_uri": "https://localhost:8080/"
        },
        "id": "kS974OYN1vfN",
        "outputId": "a4ecd384-664c-406d-b3af-004ef4ac04ae"
      },
      "outputs": [
        {
          "name": "stdout",
          "output_type": "stream",
          "text": [
            "Enter number of rows: 5\n",
            "        * \n",
            "      * * * \n",
            "    * * * * * \n",
            "  * * * * * * * \n",
            "* * * * * * * * * \n",
            "\n",
            "Sukses 😊\n"
          ]
        }
      ],
      "source": [
        "#Diberikan input suatu angka, tampilkan formasi piramida bintang dengan tinggi sesuai dengan angka yang diinputkan\n",
        "# Input: suatu angka (n)\n",
        "# Output: piramida dengan tinggi n\n",
        "\n",
        "#    *\n",
        "#   ***\n",
        "#  *****  contoh output untuk n = 5\n",
        "# *******\n",
        "#*********\n",
        "\n",
        "baris = int(input(\"Enter number of rows: \"))\n",
        "\n",
        "n = 0\n",
        "for i in range(1, baris+1):\n",
        "  for space in range(1, (baris-i)+1):\n",
        "    print(end=\"  \")\n",
        "   \n",
        "  while n!=(2*i-1):\n",
        "    print(\"* \", end=\"\")\n",
        "    n += 1\n",
        "  n = 0\n",
        "  print()\n",
        "print(\"\")\n",
        "print(\"Sukses 😊\")"
      ]
    },
    {
      "cell_type": "code",
      "execution_count": 85,
      "metadata": {
        "id": "uC0RB5O8s2Kz"
      },
      "outputs": [],
      "source": []
    }
  ],
  "metadata": {
    "colab": {
      "name": "Rizal_Aditya_152236035202-260.ipynb",
      "provenance": []
    },
    "kernelspec": {
      "display_name": "Python 3.9.7 ('base')",
      "language": "python",
      "name": "python3"
    },
    "language_info": {
      "codemirror_mode": {
        "name": "ipython",
        "version": 3
      },
      "file_extension": ".py",
      "mimetype": "text/x-python",
      "name": "python",
      "nbconvert_exporter": "python",
      "pygments_lexer": "ipython3",
      "version": "3.9.7"
    },
    "vscode": {
      "interpreter": {
        "hash": "f08154012ddadd8e950e6e9e035c7a7b32c136e7647e9b7c77e02eb723a8bedb"
      }
    }
  },
  "nbformat": 4,
  "nbformat_minor": 0
}
